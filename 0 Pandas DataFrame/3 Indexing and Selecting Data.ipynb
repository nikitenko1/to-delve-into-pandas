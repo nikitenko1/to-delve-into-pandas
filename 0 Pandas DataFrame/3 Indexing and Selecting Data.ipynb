{
 "cells": [
  {
   "cell_type": "markdown",
   "id": "bb5cb6da",
   "metadata": {},
   "source": [
    "<p style=\"font-family:Verdana; font-size: 26px; color: orange\"> Indexing and Selecting Data with Pandas</p>"
   ]
  },
  {
   "cell_type": "code",
   "execution_count": 2,
   "id": "a073203d",
   "metadata": {},
   "outputs": [],
   "source": [
    "import pandas as pd\n",
    "import numpy as np "
   ]
  },
  {
   "cell_type": "markdown",
   "id": "97a2393d",
   "metadata": {},
   "source": [
    "<p style=\"font-family:Verdana; font-size: 22px; color: orange\"> Indexing Data using the [] Operator</p>"
   ]
  },
  {
   "cell_type": "markdown",
   "id": "ecccc7f1",
   "metadata": {},
   "source": [
    "<p style=\"font-family:Verdana; font-size: 22px; color: orange\"> Selecting a Single Column</p>"
   ]
  },
  {
   "cell_type": "code",
   "execution_count": 3,
   "id": "5ffb5b73",
   "metadata": {},
   "outputs": [
    {
     "name": "stdout",
     "output_type": "stream",
     "text": [
      "Dataset\n"
     ]
    },
    {
     "data": {
      "text/html": [
       "<div>\n",
       "<style scoped>\n",
       "    .dataframe tbody tr th:only-of-type {\n",
       "        vertical-align: middle;\n",
       "    }\n",
       "\n",
       "    .dataframe tbody tr th {\n",
       "        vertical-align: top;\n",
       "    }\n",
       "\n",
       "    .dataframe thead th {\n",
       "        text-align: right;\n",
       "    }\n",
       "</style>\n",
       "<table border=\"1\" class=\"dataframe\">\n",
       "  <thead>\n",
       "    <tr style=\"text-align: right;\">\n",
       "      <th></th>\n",
       "      <th>Team</th>\n",
       "      <th>Number</th>\n",
       "      <th>Position</th>\n",
       "      <th>Age</th>\n",
       "      <th>Height</th>\n",
       "      <th>Weight</th>\n",
       "      <th>College</th>\n",
       "      <th>Salary</th>\n",
       "    </tr>\n",
       "    <tr>\n",
       "      <th>Name</th>\n",
       "      <th></th>\n",
       "      <th></th>\n",
       "      <th></th>\n",
       "      <th></th>\n",
       "      <th></th>\n",
       "      <th></th>\n",
       "      <th></th>\n",
       "      <th></th>\n",
       "    </tr>\n",
       "  </thead>\n",
       "  <tbody>\n",
       "    <tr>\n",
       "      <th>Avery Bradley</th>\n",
       "      <td>Boston Celtics</td>\n",
       "      <td>0.0</td>\n",
       "      <td>PG</td>\n",
       "      <td>25.0</td>\n",
       "      <td>6-2</td>\n",
       "      <td>180.0</td>\n",
       "      <td>Texas</td>\n",
       "      <td>7730337.0</td>\n",
       "    </tr>\n",
       "    <tr>\n",
       "      <th>Jae Crowder</th>\n",
       "      <td>Boston Celtics</td>\n",
       "      <td>99.0</td>\n",
       "      <td>SF</td>\n",
       "      <td>25.0</td>\n",
       "      <td>6-6</td>\n",
       "      <td>235.0</td>\n",
       "      <td>Marquette</td>\n",
       "      <td>6796117.0</td>\n",
       "    </tr>\n",
       "    <tr>\n",
       "      <th>John Holland</th>\n",
       "      <td>Boston Celtics</td>\n",
       "      <td>30.0</td>\n",
       "      <td>SG</td>\n",
       "      <td>27.0</td>\n",
       "      <td>6-5</td>\n",
       "      <td>205.0</td>\n",
       "      <td>Boston University</td>\n",
       "      <td>NaN</td>\n",
       "    </tr>\n",
       "    <tr>\n",
       "      <th>R.J. Hunter</th>\n",
       "      <td>Boston Celtics</td>\n",
       "      <td>28.0</td>\n",
       "      <td>SG</td>\n",
       "      <td>22.0</td>\n",
       "      <td>6-5</td>\n",
       "      <td>185.0</td>\n",
       "      <td>Georgia State</td>\n",
       "      <td>1148640.0</td>\n",
       "    </tr>\n",
       "    <tr>\n",
       "      <th>Jonas Jerebko</th>\n",
       "      <td>Boston Celtics</td>\n",
       "      <td>8.0</td>\n",
       "      <td>PF</td>\n",
       "      <td>29.0</td>\n",
       "      <td>6-10</td>\n",
       "      <td>231.0</td>\n",
       "      <td>NaN</td>\n",
       "      <td>5000000.0</td>\n",
       "    </tr>\n",
       "  </tbody>\n",
       "</table>\n",
       "</div>"
      ],
      "text/plain": [
       "                         Team  Number Position   Age Height  Weight  \\\n",
       "Name                                                                  \n",
       "Avery Bradley  Boston Celtics     0.0       PG  25.0    6-2   180.0   \n",
       "Jae Crowder    Boston Celtics    99.0       SF  25.0    6-6   235.0   \n",
       "John Holland   Boston Celtics    30.0       SG  27.0    6-5   205.0   \n",
       "R.J. Hunter    Boston Celtics    28.0       SG  22.0    6-5   185.0   \n",
       "Jonas Jerebko  Boston Celtics     8.0       PF  29.0   6-10   231.0   \n",
       "\n",
       "                         College     Salary  \n",
       "Name                                         \n",
       "Avery Bradley              Texas  7730337.0  \n",
       "Jae Crowder            Marquette  6796117.0  \n",
       "John Holland   Boston University        NaN  \n",
       "R.J. Hunter        Georgia State  1148640.0  \n",
       "Jonas Jerebko                NaN  5000000.0  "
      ]
     },
     "metadata": {},
     "output_type": "display_data"
    },
    {
     "name": "stdout",
     "output_type": "stream",
     "text": [
      "\n",
      "Single Column selected from Dataset\n"
     ]
    },
    {
     "data": {
      "text/plain": [
       "Name\n",
       "Avery Bradley    25.0\n",
       "Jae Crowder      25.0\n",
       "John Holland     27.0\n",
       "R.J. Hunter      22.0\n",
       "Jonas Jerebko    29.0\n",
       "Name: Age, dtype: float64"
      ]
     },
     "metadata": {},
     "output_type": "display_data"
    }
   ],
   "source": [
    "# Load the data\n",
    "data = pd.read_csv(\"../nba.csv\", index_col=\"Name\")\n",
    "print(\"Dataset\")\n",
    "display(data.head(5))\n",
    "\n",
    "# Select a single column\n",
    "first = data[\"Age\"]\n",
    "print(\"\\nSingle Column selected from Dataset\")\n",
    "display(first.head(5))"
   ]
  },
  {
   "cell_type": "markdown",
   "id": "8b235c1b",
   "metadata": {},
   "source": [
    "<p style=\"font-family:Verdana; font-size: 22px; color: orange\"> Selecting Multiple Columns</p>"
   ]
  },
  {
   "cell_type": "code",
   "execution_count": 4,
   "id": "337b252d",
   "metadata": {},
   "outputs": [
    {
     "name": "stdout",
     "output_type": "stream",
     "text": [
      "\n",
      "Multiple Columns selected from Dataset\n"
     ]
    },
    {
     "data": {
      "text/html": [
       "<div>\n",
       "<style scoped>\n",
       "    .dataframe tbody tr th:only-of-type {\n",
       "        vertical-align: middle;\n",
       "    }\n",
       "\n",
       "    .dataframe tbody tr th {\n",
       "        vertical-align: top;\n",
       "    }\n",
       "\n",
       "    .dataframe thead th {\n",
       "        text-align: right;\n",
       "    }\n",
       "</style>\n",
       "<table border=\"1\" class=\"dataframe\">\n",
       "  <thead>\n",
       "    <tr style=\"text-align: right;\">\n",
       "      <th></th>\n",
       "      <th>Age</th>\n",
       "      <th>College</th>\n",
       "      <th>Salary</th>\n",
       "    </tr>\n",
       "    <tr>\n",
       "      <th>Name</th>\n",
       "      <th></th>\n",
       "      <th></th>\n",
       "      <th></th>\n",
       "    </tr>\n",
       "  </thead>\n",
       "  <tbody>\n",
       "    <tr>\n",
       "      <th>Avery Bradley</th>\n",
       "      <td>25.0</td>\n",
       "      <td>Texas</td>\n",
       "      <td>7730337.0</td>\n",
       "    </tr>\n",
       "    <tr>\n",
       "      <th>Jae Crowder</th>\n",
       "      <td>25.0</td>\n",
       "      <td>Marquette</td>\n",
       "      <td>6796117.0</td>\n",
       "    </tr>\n",
       "    <tr>\n",
       "      <th>John Holland</th>\n",
       "      <td>27.0</td>\n",
       "      <td>Boston University</td>\n",
       "      <td>NaN</td>\n",
       "    </tr>\n",
       "    <tr>\n",
       "      <th>R.J. Hunter</th>\n",
       "      <td>22.0</td>\n",
       "      <td>Georgia State</td>\n",
       "      <td>1148640.0</td>\n",
       "    </tr>\n",
       "    <tr>\n",
       "      <th>Jonas Jerebko</th>\n",
       "      <td>29.0</td>\n",
       "      <td>NaN</td>\n",
       "      <td>5000000.0</td>\n",
       "    </tr>\n",
       "  </tbody>\n",
       "</table>\n",
       "</div>"
      ],
      "text/plain": [
       "                Age            College     Salary\n",
       "Name                                             \n",
       "Avery Bradley  25.0              Texas  7730337.0\n",
       "Jae Crowder    25.0          Marquette  6796117.0\n",
       "John Holland   27.0  Boston University        NaN\n",
       "R.J. Hunter    22.0      Georgia State  1148640.0\n",
       "Jonas Jerebko  29.0                NaN  5000000.0"
      ]
     },
     "metadata": {},
     "output_type": "display_data"
    }
   ],
   "source": [
    "first = data[[\"Age\", \"College\", \"Salary\"]]\n",
    "print(\"\\nMultiple Columns selected from Dataset\")\n",
    "display(first.head(5))"
   ]
  },
  {
   "cell_type": "markdown",
   "id": "35e9a129",
   "metadata": {},
   "source": [
    "> DataFrame[]: Known as the indexing operator, used for basic selection.\n",
    ">> DataFrame.loc[]: Label-based indexing for selecting data by row/column labels.\n",
    ">>> DataFrame.iloc[]: Position-based indexing for selecting data by row/column integer positions."
   ]
  },
  {
   "cell_type": "markdown",
   "id": "cbb07bfc",
   "metadata": {},
   "source": [
    "<p style=\"font-family:Verdana; font-size: 22px; color: orange\"> Indexing a DataFrame using .loc[ ]</p>"
   ]
  },
  {
   "cell_type": "code",
   "execution_count": 5,
   "id": "ba0b6c0d",
   "metadata": {},
   "outputs": [
    {
     "name": "stdout",
     "output_type": "stream",
     "text": [
      "Team        Boston Celtics\n",
      "Number                 0.0\n",
      "Position                PG\n",
      "Age                   25.0\n",
      "Height                 6-2\n",
      "Weight               180.0\n",
      "College              Texas\n",
      "Salary           7730337.0\n",
      "Name: Avery Bradley, dtype: object \n",
      "\n",
      "\n",
      " Team        Boston Celtics\n",
      "Number                28.0\n",
      "Position                SG\n",
      "Age                   22.0\n",
      "Height                 6-5\n",
      "Weight               185.0\n",
      "College      Georgia State\n",
      "Salary           1148640.0\n",
      "Name: R.J. Hunter, dtype: object\n"
     ]
    }
   ],
   "source": [
    "# Selecting a single row\n",
    "# retrieving row by loc method\n",
    "first = data.loc[\"Avery Bradley\"]\n",
    "second = data.loc[\"R.J. Hunter\"]\n",
    "\n",
    "\n",
    "print(first, \"\\n\\n\\n\", second)"
   ]
  },
  {
   "cell_type": "code",
   "execution_count": 6,
   "id": "f12de9d4",
   "metadata": {},
   "outputs": [
    {
     "data": {
      "text/html": [
       "<div>\n",
       "<style scoped>\n",
       "    .dataframe tbody tr th:only-of-type {\n",
       "        vertical-align: middle;\n",
       "    }\n",
       "\n",
       "    .dataframe tbody tr th {\n",
       "        vertical-align: top;\n",
       "    }\n",
       "\n",
       "    .dataframe thead th {\n",
       "        text-align: right;\n",
       "    }\n",
       "</style>\n",
       "<table border=\"1\" class=\"dataframe\">\n",
       "  <thead>\n",
       "    <tr style=\"text-align: right;\">\n",
       "      <th></th>\n",
       "      <th>Team</th>\n",
       "      <th>Number</th>\n",
       "      <th>Position</th>\n",
       "      <th>Age</th>\n",
       "      <th>Height</th>\n",
       "      <th>Weight</th>\n",
       "      <th>College</th>\n",
       "      <th>Salary</th>\n",
       "    </tr>\n",
       "    <tr>\n",
       "      <th>Name</th>\n",
       "      <th></th>\n",
       "      <th></th>\n",
       "      <th></th>\n",
       "      <th></th>\n",
       "      <th></th>\n",
       "      <th></th>\n",
       "      <th></th>\n",
       "      <th></th>\n",
       "    </tr>\n",
       "  </thead>\n",
       "  <tbody>\n",
       "    <tr>\n",
       "      <th>Avery Bradley</th>\n",
       "      <td>Boston Celtics</td>\n",
       "      <td>0.0</td>\n",
       "      <td>PG</td>\n",
       "      <td>25.0</td>\n",
       "      <td>6-2</td>\n",
       "      <td>180.0</td>\n",
       "      <td>Texas</td>\n",
       "      <td>7730337.0</td>\n",
       "    </tr>\n",
       "    <tr>\n",
       "      <th>R.J. Hunter</th>\n",
       "      <td>Boston Celtics</td>\n",
       "      <td>28.0</td>\n",
       "      <td>SG</td>\n",
       "      <td>22.0</td>\n",
       "      <td>6-5</td>\n",
       "      <td>185.0</td>\n",
       "      <td>Georgia State</td>\n",
       "      <td>1148640.0</td>\n",
       "    </tr>\n",
       "  </tbody>\n",
       "</table>\n",
       "</div>"
      ],
      "text/plain": [
       "                         Team  Number Position   Age Height  Weight  \\\n",
       "Name                                                                  \n",
       "Avery Bradley  Boston Celtics     0.0       PG  25.0    6-2   180.0   \n",
       "R.J. Hunter    Boston Celtics    28.0       SG  22.0    6-5   185.0   \n",
       "\n",
       "                     College     Salary  \n",
       "Name                                     \n",
       "Avery Bradley          Texas  7730337.0  \n",
       "R.J. Hunter    Georgia State  1148640.0  "
      ]
     },
     "metadata": {},
     "output_type": "display_data"
    }
   ],
   "source": [
    "# Select multiple rows\n",
    "first = data.loc[[\"Avery Bradley\", \"R.J. Hunter\"]]\n",
    "display(first)"
   ]
  },
  {
   "cell_type": "code",
   "execution_count": 7,
   "id": "09ebb075",
   "metadata": {},
   "outputs": [
    {
     "name": "stdout",
     "output_type": "stream",
     "text": [
      "                         Team  Number Position\n",
      "Name                                          \n",
      "Avery Bradley  Boston Celtics     0.0       PG\n",
      "R.J. Hunter    Boston Celtics    28.0       SG\n"
     ]
    }
   ],
   "source": [
    "# Selecting Specific Rows and Columns --> Dataframe.loc[[\"row1\", \"row2\"], [\"column1\", \"column2\", \"column3\"]]\n",
    "# Select two rows and three columns\n",
    "first = data.loc[[\"Avery Bradley\", \"R.J. Hunter\"], [\"Team\", \"Number\", \"Position\"]]\n",
    "print(first)"
   ]
  },
  {
   "cell_type": "code",
   "execution_count": 8,
   "id": "5075cc16",
   "metadata": {},
   "outputs": [
    {
     "name": "stdout",
     "output_type": "stream",
     "text": [
      "                         Team  Number Position\n",
      "Name                                          \n",
      "Avery Bradley  Boston Celtics     0.0       PG\n",
      "Jae Crowder    Boston Celtics    99.0       SF\n",
      "John Holland   Boston Celtics    30.0       SG\n",
      "R.J. Hunter    Boston Celtics    28.0       SG\n",
      "Jonas Jerebko  Boston Celtics     8.0       PF\n",
      "...                       ...     ...      ...\n",
      "Shelvin Mack        Utah Jazz     8.0       PG\n",
      "Raul Neto           Utah Jazz    25.0       PG\n",
      "Tibor Pleiss        Utah Jazz    21.0        C\n",
      "Jeff Withey         Utah Jazz    24.0        C\n",
      "NaN                       NaN     NaN      NaN\n",
      "\n",
      "[458 rows x 3 columns]\n"
     ]
    }
   ],
   "source": [
    "# Selecting all of the rows and some columns --> Dataframe.loc[:, [\"column1\", \"column2\", \"column3\"]]\n",
    "# Select all rows and specific columns\n",
    "first = data.loc[:, [\"Team\", \"Number\", \"Position\"]]\n",
    "print(first)"
   ]
  },
  {
   "cell_type": "markdown",
   "id": "b6f7eb18",
   "metadata": {},
   "source": [
    "<p style=\"font-family:Verdana; font-size: 22px; color: orange\"> Indexing a DataFrame using <em>.iloc[ ]</em></p>"
   ]
  },
  {
   "cell_type": "code",
   "execution_count": 9,
   "id": "3e35a0c3",
   "metadata": {},
   "outputs": [
    {
     "name": "stdout",
     "output_type": "stream",
     "text": [
      "Team        Boston Celtics\n",
      "Number                28.0\n",
      "Position                SG\n",
      "Age                   22.0\n",
      "Height                 6-5\n",
      "Weight               185.0\n",
      "College      Georgia State\n",
      "Salary           1148640.0\n",
      "Name: R.J. Hunter, dtype: object\n"
     ]
    }
   ],
   "source": [
    "# To select a single row using .iloc[], provide the integer position of the row:\n",
    "# Select a single row by position\n",
    "row2 = data.iloc[3]\n",
    "print(row2)"
   ]
  },
  {
   "cell_type": "code",
   "execution_count": 10,
   "id": "b040417f",
   "metadata": {},
   "outputs": [
    {
     "data": {
      "text/html": [
       "<div>\n",
       "<style scoped>\n",
       "    .dataframe tbody tr th:only-of-type {\n",
       "        vertical-align: middle;\n",
       "    }\n",
       "\n",
       "    .dataframe tbody tr th {\n",
       "        vertical-align: top;\n",
       "    }\n",
       "\n",
       "    .dataframe thead th {\n",
       "        text-align: right;\n",
       "    }\n",
       "</style>\n",
       "<table border=\"1\" class=\"dataframe\">\n",
       "  <thead>\n",
       "    <tr style=\"text-align: right;\">\n",
       "      <th></th>\n",
       "      <th>Team</th>\n",
       "      <th>Number</th>\n",
       "      <th>Position</th>\n",
       "      <th>Age</th>\n",
       "      <th>Height</th>\n",
       "      <th>Weight</th>\n",
       "      <th>College</th>\n",
       "      <th>Salary</th>\n",
       "    </tr>\n",
       "    <tr>\n",
       "      <th>Name</th>\n",
       "      <th></th>\n",
       "      <th></th>\n",
       "      <th></th>\n",
       "      <th></th>\n",
       "      <th></th>\n",
       "      <th></th>\n",
       "      <th></th>\n",
       "      <th></th>\n",
       "    </tr>\n",
       "  </thead>\n",
       "  <tbody>\n",
       "    <tr>\n",
       "      <th>R.J. Hunter</th>\n",
       "      <td>Boston Celtics</td>\n",
       "      <td>28.0</td>\n",
       "      <td>SG</td>\n",
       "      <td>22.0</td>\n",
       "      <td>6-5</td>\n",
       "      <td>185.0</td>\n",
       "      <td>Georgia State</td>\n",
       "      <td>1148640.0</td>\n",
       "    </tr>\n",
       "    <tr>\n",
       "      <th>Amir Johnson</th>\n",
       "      <td>Boston Celtics</td>\n",
       "      <td>90.0</td>\n",
       "      <td>PF</td>\n",
       "      <td>29.0</td>\n",
       "      <td>6-9</td>\n",
       "      <td>240.0</td>\n",
       "      <td>NaN</td>\n",
       "      <td>12000000.0</td>\n",
       "    </tr>\n",
       "    <tr>\n",
       "      <th>Kelly Olynyk</th>\n",
       "      <td>Boston Celtics</td>\n",
       "      <td>41.0</td>\n",
       "      <td>C</td>\n",
       "      <td>25.0</td>\n",
       "      <td>7-0</td>\n",
       "      <td>238.0</td>\n",
       "      <td>Gonzaga</td>\n",
       "      <td>2165160.0</td>\n",
       "    </tr>\n",
       "  </tbody>\n",
       "</table>\n",
       "</div>"
      ],
      "text/plain": [
       "                        Team  Number Position   Age Height  Weight  \\\n",
       "Name                                                                 \n",
       "R.J. Hunter   Boston Celtics    28.0       SG  22.0    6-5   185.0   \n",
       "Amir Johnson  Boston Celtics    90.0       PF  29.0    6-9   240.0   \n",
       "Kelly Olynyk  Boston Celtics    41.0        C  25.0    7-0   238.0   \n",
       "\n",
       "                    College      Salary  \n",
       "Name                                     \n",
       "R.J. Hunter   Georgia State   1148640.0  \n",
       "Amir Johnson            NaN  12000000.0  \n",
       "Kelly Olynyk        Gonzaga   2165160.0  "
      ]
     },
     "metadata": {},
     "output_type": "display_data"
    }
   ],
   "source": [
    "# Select multiple rows by position\n",
    "row2 = data.iloc[[3, 5, 7]]\n",
    "display(row2)"
   ]
  },
  {
   "cell_type": "code",
   "execution_count": 11,
   "id": "8673bb2e",
   "metadata": {},
   "outputs": [
    {
     "name": "stdout",
     "output_type": "stream",
     "text": [
      "               Number Position\n",
      "Name                          \n",
      "R.J. Hunter      28.0       SG\n",
      "Jonas Jerebko     8.0       PF\n"
     ]
    }
   ],
   "source": [
    "# Selecting Specific Rows and Columns\n",
    "# Select two rows and two columns by position\n",
    "row2 = data.iloc[[3, 4], [1, 2]]\n",
    "print(row2)"
   ]
  },
  {
   "cell_type": "code",
   "execution_count": 12,
   "id": "808cbbb1",
   "metadata": {},
   "outputs": [
    {
     "name": "stdout",
     "output_type": "stream",
     "text": [
      "               Number Position\n",
      "Name                          \n",
      "Avery Bradley     0.0       PG\n",
      "Jae Crowder      99.0       SF\n",
      "John Holland     30.0       SG\n",
      "R.J. Hunter      28.0       SG\n",
      "Jonas Jerebko     8.0       PF\n",
      "...               ...      ...\n",
      "Shelvin Mack      8.0       PG\n",
      "Raul Neto        25.0       PG\n",
      "Tibor Pleiss     21.0        C\n",
      "Jeff Withey      24.0        C\n",
      "NaN               NaN      NaN\n",
      "\n",
      "[458 rows x 2 columns]\n"
     ]
    }
   ],
   "source": [
    "# Selecting All Rows and Some Columns\n",
    "# Select all rows and specific columns\n",
    "row2 = data.iloc[:, [1, 2]]\n",
    "print(row2)"
   ]
  },
  {
   "cell_type": "code",
   "execution_count": null,
   "id": "ae39f06f",
   "metadata": {},
   "outputs": [],
   "source": []
  }
 ],
 "metadata": {
  "kernelspec": {
   "display_name": "base",
   "language": "python",
   "name": "python3"
  },
  "language_info": {
   "codemirror_mode": {
    "name": "ipython",
    "version": 3
   },
   "file_extension": ".py",
   "mimetype": "text/x-python",
   "name": "python",
   "nbconvert_exporter": "python",
   "pygments_lexer": "ipython3",
   "version": "3.12.7"
  }
 },
 "nbformat": 4,
 "nbformat_minor": 5
}
