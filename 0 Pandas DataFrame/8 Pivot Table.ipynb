{
 "cells": [
  {
   "cell_type": "markdown",
   "id": "bb5cb6da",
   "metadata": {},
   "source": [
    "<p style=\"font-family:Verdana; font-size: 26px; color: orange\"> How to Create a Pivot Table in Python using Pandas?</p>"
   ]
  },
  {
   "cell_type": "code",
   "execution_count": 1,
   "id": "a073203d",
   "metadata": {},
   "outputs": [],
   "source": [
    "import pandas as pd\n",
    "import numpy as np "
   ]
  },
  {
   "cell_type": "markdown",
   "id": "ecccc7f1",
   "metadata": {},
   "source": [
    "<p style=\"font-family:Verdana; font-size: 22px; color: orange\">Creating a Sample DataFrame</p>"
   ]
  },
  {
   "cell_type": "code",
   "execution_count": 3,
   "id": "5ffb5b73",
   "metadata": {},
   "outputs": [
    {
     "data": {
      "text/html": [
       "<div>\n",
       "<style scoped>\n",
       "    .dataframe tbody tr th:only-of-type {\n",
       "        vertical-align: middle;\n",
       "    }\n",
       "\n",
       "    .dataframe tbody tr th {\n",
       "        vertical-align: top;\n",
       "    }\n",
       "\n",
       "    .dataframe thead th {\n",
       "        text-align: right;\n",
       "    }\n",
       "</style>\n",
       "<table border=\"1\" class=\"dataframe\">\n",
       "  <thead>\n",
       "    <tr style=\"text-align: right;\">\n",
       "      <th></th>\n",
       "      <th>Product</th>\n",
       "      <th>Category</th>\n",
       "      <th>Quantity</th>\n",
       "      <th>Amount</th>\n",
       "    </tr>\n",
       "  </thead>\n",
       "  <tbody>\n",
       "    <tr>\n",
       "      <th>0</th>\n",
       "      <td>Carrots</td>\n",
       "      <td>Vegetable</td>\n",
       "      <td>8</td>\n",
       "      <td>270</td>\n",
       "    </tr>\n",
       "    <tr>\n",
       "      <th>1</th>\n",
       "      <td>Broccoli</td>\n",
       "      <td>Vegetable</td>\n",
       "      <td>5</td>\n",
       "      <td>239</td>\n",
       "    </tr>\n",
       "    <tr>\n",
       "      <th>2</th>\n",
       "      <td>Banana</td>\n",
       "      <td>Fruit</td>\n",
       "      <td>3</td>\n",
       "      <td>617</td>\n",
       "    </tr>\n",
       "    <tr>\n",
       "      <th>3</th>\n",
       "      <td>Banana</td>\n",
       "      <td>Fruit</td>\n",
       "      <td>4</td>\n",
       "      <td>384</td>\n",
       "    </tr>\n",
       "    <tr>\n",
       "      <th>4</th>\n",
       "      <td>Beans</td>\n",
       "      <td>Vegetable</td>\n",
       "      <td>5</td>\n",
       "      <td>626</td>\n",
       "    </tr>\n",
       "    <tr>\n",
       "      <th>5</th>\n",
       "      <td>Orange</td>\n",
       "      <td>Fruit</td>\n",
       "      <td>9</td>\n",
       "      <td>610</td>\n",
       "    </tr>\n",
       "    <tr>\n",
       "      <th>6</th>\n",
       "      <td>Broccoli</td>\n",
       "      <td>Vegetable</td>\n",
       "      <td>11</td>\n",
       "      <td>62</td>\n",
       "    </tr>\n",
       "    <tr>\n",
       "      <th>7</th>\n",
       "      <td>Banana</td>\n",
       "      <td>Fruit</td>\n",
       "      <td>8</td>\n",
       "      <td>90</td>\n",
       "    </tr>\n",
       "  </tbody>\n",
       "</table>\n",
       "</div>"
      ],
      "text/plain": [
       "    Product   Category  Quantity  Amount\n",
       "0   Carrots  Vegetable         8     270\n",
       "1  Broccoli  Vegetable         5     239\n",
       "2    Banana      Fruit         3     617\n",
       "3    Banana      Fruit         4     384\n",
       "4     Beans  Vegetable         5     626\n",
       "5    Orange      Fruit         9     610\n",
       "6  Broccoli  Vegetable        11      62\n",
       "7    Banana      Fruit         8      90"
      ]
     },
     "execution_count": 3,
     "metadata": {},
     "output_type": "execute_result"
    }
   ],
   "source": [
    "# creating dataframe\n",
    "df = pd.DataFrame({'Product': ['Carrots', 'Broccoli', 'Banana', 'Banana',\n",
    "                               'Beans', 'Orange', 'Broccoli', 'Banana'],\n",
    "                   'Category': ['Vegetable', 'Vegetable', 'Fruit', 'Fruit',\n",
    "                                'Vegetable', 'Fruit', 'Vegetable', 'Fruit'],\n",
    "                   'Quantity': [8, 5, 3, 4, 5, 9, 11, 8],\n",
    "                   'Amount': [270, 239, 617, 384, 626, 610, 62, 90]})\n",
    "df"
   ]
  },
  {
   "cell_type": "markdown",
   "id": "0ec99864",
   "metadata": {},
   "source": [
    "> A pivot table is a statistical table that summarizes a substantial table like a big dataset."
   ]
  },
  {
   "cell_type": "markdown",
   "id": "7b80727f",
   "metadata": {},
   "source": [
    "<p style=\"font-family:Verdana; font-size: 22px; color: orange\">Example 1: Get the Total Sales of Each Product</p>"
   ]
  },
  {
   "cell_type": "code",
   "execution_count": 4,
   "id": "47d1f19d",
   "metadata": {},
   "outputs": [
    {
     "name": "stdout",
     "output_type": "stream",
     "text": [
      "          Amount\n",
      "Product         \n",
      "Banana      1091\n",
      "Beans        626\n",
      "Broccoli     301\n",
      "Carrots      270\n",
      "Orange       610\n"
     ]
    }
   ],
   "source": [
    "pivot = df.pivot_table(index=['Product'],\n",
    "                       values=['Amount'],\n",
    "                       aggfunc='sum')\n",
    "print(pivot)"
   ]
  },
  {
   "cell_type": "markdown",
   "id": "8334d92e",
   "metadata": {},
   "source": [
    "<p style=\"font-family:Verdana; font-size: 22px; color: orange\">Example 2: Get the Total Sales of Each Category</p>"
   ]
  },
  {
   "cell_type": "code",
   "execution_count": null,
   "id": "60c07688",
   "metadata": {},
   "outputs": [
    {
     "name": "stdout",
     "output_type": "stream",
     "text": [
      "           Amount\n",
      "Category         \n",
      "Fruit        1701\n",
      "Vegetable    1197\n"
     ]
    }
   ],
   "source": [
    "# In this example, a pivot table is created from the DataFrame 'df' to summarize the total 'Amount' sales \n",
    "# for each unique 'Category', \n",
    "# employing the 'sum' aggregation function.\n",
    "# creating pivot table of total\n",
    "# sales category-wise aggfunc = 'sum'\n",
    "pivot = df.pivot_table(index=['Category'],\n",
    "                       values=['Amount'],\n",
    "                       aggfunc='sum')\n",
    "print(pivot)"
   ]
  },
  {
   "cell_type": "markdown",
   "id": "5b834f4d",
   "metadata": {},
   "source": [
    "<p style=\"font-family:Verdana; font-size: 22px; color: orange\">Example 3: Get Total Sales by Category and Product Both</p>"
   ]
  },
  {
   "cell_type": "code",
   "execution_count": 6,
   "id": "5222631c",
   "metadata": {},
   "outputs": [
    {
     "name": "stdout",
     "output_type": "stream",
     "text": [
      "                    Amount\n",
      "Product  Category         \n",
      "Banana   Fruit        1091\n",
      "Beans    Vegetable     626\n",
      "Broccoli Vegetable     301\n",
      "Carrots  Vegetable     270\n",
      "Orange   Fruit         610\n"
     ]
    }
   ],
   "source": [
    "# In this example, a pivot table is generated from the DataFrame 'df' to showcase the total 'Amount' sales \n",
    "# for unique combinations of 'Product' and 'Category',\n",
    "# utilizing the 'sum' aggregation function. \n",
    "pivot = df.pivot_table(index=['Product', 'Category'],\n",
    "                       values=['Amount'], aggfunc='sum')\n",
    "print(pivot)"
   ]
  },
  {
   "cell_type": "markdown",
   "id": "b92344a6",
   "metadata": {},
   "source": [
    "<p style=\"font-family:Verdana; font-size: 22px; color: orange\">Example 4: Get the Mean, Median, Minimum Sale by Category</p>"
   ]
  },
  {
   "cell_type": "code",
   "execution_count": 7,
   "id": "9b9868f9",
   "metadata": {},
   "outputs": [
    {
     "name": "stdout",
     "output_type": "stream",
     "text": [
      "           Amount           \n",
      "             mean median min\n",
      "Category                    \n",
      "Fruit      425.25  497.0  90\n",
      "Vegetable  299.25  254.5  62\n"
     ]
    }
   ],
   "source": [
    "# In this example, a pivot table is created from the DataFrame 'df' \n",
    "# to display the median, mean, and minimum 'Amount' values categorized by 'Category.' \n",
    "# The aggregation functions 'median,' 'mean,' and 'min' are applied\n",
    "# 'mean', 'min'} will get median, mean and\n",
    "# minimum of sales respectively\n",
    "pivot = df.pivot_table(index=['Category'], values=['Amount'],\n",
    "                       aggfunc={'median', 'mean', 'min'})\n",
    "print(pivot)"
   ]
  },
  {
   "cell_type": "markdown",
   "id": "e7d0fff8",
   "metadata": {},
   "source": [
    "<p style=\"font-family:Verdana; font-size: 22px; color: orange\">Example 5: Get the Mean, Median, Minimum Sale by Product</p>"
   ]
  },
  {
   "cell_type": "code",
   "execution_count": 9,
   "id": "b740c57b",
   "metadata": {},
   "outputs": [
    {
     "name": "stdout",
     "output_type": "stream",
     "text": [
      "              Amount            \n",
      "                mean median  min\n",
      "Product                         \n",
      "Banana    363.666667  384.0   90\n",
      "Beans     626.000000  626.0  626\n",
      "Broccoli  150.500000  150.5   62\n",
      "Carrots   270.000000  270.0  270\n",
      "Orange    610.000000  610.0  610\n"
     ]
    }
   ],
   "source": [
    "# In this example, a pivot table is generated from the DataFrame 'df' \n",
    "# to showcase the median, mean, and minimum 'Amount' values for each unique 'Product.' \n",
    "# The aggregation functions 'median,' 'mean,' and 'min' are applied\n",
    "pivot = df.pivot_table(index=['Product'], values=['Amount'],\n",
    "                       aggfunc={'median', 'mean', 'min'})\n",
    "print(pivot)\n"
   ]
  }
 ],
 "metadata": {
  "kernelspec": {
   "display_name": "base",
   "language": "python",
   "name": "python3"
  },
  "language_info": {
   "codemirror_mode": {
    "name": "ipython",
    "version": 3
   },
   "file_extension": ".py",
   "mimetype": "text/x-python",
   "name": "python",
   "nbconvert_exporter": "python",
   "pygments_lexer": "ipython3",
   "version": "3.12.7"
  }
 },
 "nbformat": 4,
 "nbformat_minor": 5
}
