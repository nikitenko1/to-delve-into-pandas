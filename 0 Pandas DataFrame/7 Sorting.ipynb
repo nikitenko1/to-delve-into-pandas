{
 "cells": [
  {
   "cell_type": "markdown",
   "id": "bb5cb6da",
   "metadata": {},
   "source": [
    "<p style=\"font-family:Verdana; font-size: 26px; color: orange\"> How to Sort Pandas DataFrame?</p>"
   ]
  },
  {
   "cell_type": "code",
   "execution_count": 1,
   "id": "a073203d",
   "metadata": {},
   "outputs": [],
   "source": [
    "import pandas as pd\n",
    "import numpy as np "
   ]
  },
  {
   "cell_type": "markdown",
   "id": "ecccc7f1",
   "metadata": {},
   "source": [
    "<p style=\"font-family:Verdana; font-size: 22px; color: orange\">1. Sort DataFrame by One Column Value</p>"
   ]
  },
  {
   "cell_type": "code",
   "execution_count": 2,
   "id": "5ffb5b73",
   "metadata": {},
   "outputs": [
    {
     "name": "stdout",
     "output_type": "stream",
     "text": [
      "      Name  Age  Score\n",
      "0    Alice   25     85\n",
      "1      Bob   30     90\n",
      "2  Charlie   35     95\n",
      "3    David   40     80\n"
     ]
    }
   ],
   "source": [
    "data = {'Name': ['Alice', 'Bob', 'Charlie', 'David'],\n",
    "        'Age': [25, 30, 35, 40],\n",
    "        'Score': [85, 90, 95, 80]}\n",
    "df = pd.DataFrame(data)\n",
    "\n",
    "# Sorting by 'Age' in ascending order\n",
    "sorted_df = df.sort_values(by='Age')\n",
    "print(sorted_df)"
   ]
  },
  {
   "cell_type": "code",
   "execution_count": 3,
   "id": "b77982d1",
   "metadata": {},
   "outputs": [],
   "source": [
    "# In this example, the DataFrame is sorted by the Age column in ascending order. "
   ]
  },
  {
   "cell_type": "markdown",
   "id": "cfb35b68",
   "metadata": {},
   "source": [
    "> In Pandas, the sort_values() method allows you to sort a DataFrame by one or more columns. \n",
    ">> By default, it sorts in ascending order but can be customized with various parameters."
   ]
  },
  {
   "cell_type": "markdown",
   "id": "aaf25239",
   "metadata": {},
   "source": [
    "* Key Parameters of sort_values():\n",
    "\n",
    "> by: Specifies the column(s) to sort by.\n",
    ">> ascending: Boolean (default True). If False, sorts in descending order.\n",
    ">>> inplace: If True, modifies the original DataFrame; otherwise returns a new sorted DataFrame.\n",
    ">>>> na_position: Specifies whether to place NaN values at the beginning ('first') or end ('last').\n",
    ">>>>> ignore_index: If True, resets the index after sorting."
   ]
  },
  {
   "cell_type": "code",
   "execution_count": 4,
   "id": "0b01dde6",
   "metadata": {},
   "outputs": [
    {
     "name": "stdout",
     "output_type": "stream",
     "text": [
      "      Name  Age  Score\n",
      "3    David   40     80\n",
      "2  Charlie   35     95\n",
      "1      Bob   30     90\n",
      "0    Alice   25     85\n"
     ]
    }
   ],
   "source": [
    "data = {'Name': ['Alice', 'Bob', 'Charlie', 'David'],'Age': [25, 30, 35, 40],'Score': [85, 90, 95, 80]}\n",
    "df = pd.DataFrame(data)\n",
    "\n",
    "# Sorting by 'Age' in descending order\n",
    "sorted_df = df.sort_values(by='Age',ascending=False)\n",
    "print(sorted_df)"
   ]
  },
  {
   "cell_type": "markdown",
   "id": "5bf3180c",
   "metadata": {},
   "source": [
    "<p style=\"font-family:Verdana; font-size: 22px; color: orange\">2. Sort DataFrame by Multiple Columns</p>"
   ]
  },
  {
   "cell_type": "code",
   "execution_count": 5,
   "id": "5146c9ee",
   "metadata": {},
   "outputs": [
    {
     "name": "stdout",
     "output_type": "stream",
     "text": [
      "      Name  Age  Score\n",
      "0    Alice   25     85\n",
      "1      Bob   30     90\n",
      "2  Charlie   35     95\n",
      "3    David   40     80\n"
     ]
    }
   ],
   "source": [
    "# Sorting by 'Score' in ascending order\n",
    "sorted_df = df.sort_values(by=['Age', 'Score'])\n",
    "# This will first sort by Age, and if there are ties (same age), it will then sort by Score. \n",
    "print(sorted_df)"
   ]
  },
  {
   "cell_type": "markdown",
   "id": "21d74bac",
   "metadata": {},
   "source": [
    "<p style=\"font-family:Verdana; font-size: 22px; color: orange\">3. Sort DataFrame with Missing Values</p>"
   ]
  },
  {
   "cell_type": "code",
   "execution_count": 7,
   "id": "63e4b269",
   "metadata": {},
   "outputs": [
    {
     "name": "stdout",
     "output_type": "stream",
     "text": [
      "      Name   Age\n",
      "2  Charlie   NaN\n",
      "1      Bob  22.0\n",
      "3    David  22.0\n",
      "0    Alice  28.0\n"
     ]
    }
   ],
   "source": [
    "data_with_nan = {\"Name\": [\"Alice\", \"Bob\", \"Charlie\", \"David\"],\"Age\": [28, 22, None, 22]}\n",
    "df_nan = pd.DataFrame(data_with_nan)\n",
    "\n",
    "# Sort by 'Age', placing missing values first\n",
    "# By default, missing values are placed last, but you can place them first if needed.\n",
    "sorted_df = df_nan.sort_values(by=\"Age\", na_position=\"first\")\n",
    "print(sorted_df)"
   ]
  },
  {
   "cell_type": "markdown",
   "id": "08fd7075",
   "metadata": {},
   "source": [
    "<p style=\"font-family:Verdana; font-size: 22px; color: orange\">Choosing the Sorting Algorithm</p>"
   ]
  },
  {
   "cell_type": "markdown",
   "id": "dfcf801d",
   "metadata": {},
   "source": [
    "> 'quicksort': Quicksort is a highly efficient, divide-and-conquer sorting algorithm. \n",
    ">> 'mergesort': Divides the dataset into smaller subarrays, sorts them, and then merges them back together in sorted order.\n",
    ">>> 'heapsort': Heapsort is another comparison-based sorting algorithm that builds a heap data structure to systematically extract the largest or smallest element and reorder the dataset."
   ]
  },
  {
   "cell_type": "code",
   "execution_count": 8,
   "id": "778de250",
   "metadata": {},
   "outputs": [
    {
     "name": "stdout",
     "output_type": "stream",
     "text": [
      "      Name  Age  Score\n",
      "1      Bob   22     90\n",
      "3    David   22     80\n",
      "2  Charlie   25     95\n",
      "0    Alice   28     85\n",
      "4      Eve   28     88\n"
     ]
    }
   ],
   "source": [
    "# Create a DataFrame with duplicate 'Age' values\n",
    "data = {\n",
    "    \"Name\": [\"Alice\", \"Bob\", \"Charlie\", \"David\", \"Eve\"],\n",
    "    \"Age\": [28, 22, 25, 22, 28],\n",
    "    \"Score\": [85, 90, 95, 80, 88]\n",
    "}\n",
    "df = pd.DataFrame(data)\n",
    "\n",
    "# Sort the DataFrame by 'Age' using the 'mergesort' algorithm\n",
    "sorted_df = df.sort_values(by='Age', kind='mergesort')\n",
    "print(sorted_df)"
   ]
  },
  {
   "cell_type": "markdown",
   "id": "7b80727f",
   "metadata": {},
   "source": [
    "<p style=\"font-family:Verdana; font-size: 22px; color: orange\">Custom Sorting with Key Functions</p>"
   ]
  },
  {
   "cell_type": "code",
   "execution_count": 10,
   "id": "5386fdbe",
   "metadata": {},
   "outputs": [
    {
     "name": "stdout",
     "output_type": "stream",
     "text": [
      "      Name  Age  Score\n",
      "0    Alice   28     85\n",
      "1      Bob   22     90\n",
      "2  Charlie   25     95\n",
      "3    David   22     80\n",
      "4      Eve   28     88\n"
     ]
    }
   ],
   "source": [
    "data = {\n",
    "    \"Name\": [\"Alice\", \"Bob\", \"Charlie\", \"David\", \"Eve\"],\n",
    "    \"Age\": [28, 22, 25, 22, 28],\n",
    "    \"Score\": [85, 90, 95, 80, 88]\n",
    "}\n",
    "df = pd.DataFrame(data)\n",
    "\n",
    "sorted_df = df.sort_values(by='Name', key=lambda col: col.str.lower())\n",
    "# This ensures that names are sorted alphabetically without considering case differences.\n",
    "print(sorted_df)"
   ]
  },
  {
   "cell_type": "code",
   "execution_count": null,
   "id": "6d11bd9d",
   "metadata": {},
   "outputs": [],
   "source": []
  }
 ],
 "metadata": {
  "kernelspec": {
   "display_name": "base",
   "language": "python",
   "name": "python3"
  },
  "language_info": {
   "codemirror_mode": {
    "name": "ipython",
    "version": 3
   },
   "file_extension": ".py",
   "mimetype": "text/x-python",
   "name": "python",
   "nbconvert_exporter": "python",
   "pygments_lexer": "ipython3",
   "version": "3.12.7"
  }
 },
 "nbformat": 4,
 "nbformat_minor": 5
}
