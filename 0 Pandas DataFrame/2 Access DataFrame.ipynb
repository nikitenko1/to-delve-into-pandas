{
 "cells": [
  {
   "cell_type": "markdown",
   "id": "bb5cb6da",
   "metadata": {},
   "source": [
    "<p style=\"font-family:Verdana; font-size: 26px; color: orange\"> Pandas Access DataFrame</p>"
   ]
  },
  {
   "cell_type": "code",
   "execution_count": 1,
   "id": "a073203d",
   "metadata": {},
   "outputs": [],
   "source": [
    "import pandas as pd\n",
    "import numpy as np "
   ]
  },
  {
   "cell_type": "markdown",
   "id": "97a2393d",
   "metadata": {},
   "source": [
    "<p style=\"font-family:Verdana; font-size: 22px; color: orange\"> 1. Accessing and Modifying the Index</p>"
   ]
  },
  {
   "cell_type": "code",
   "execution_count": 2,
   "id": "5ffb5b73",
   "metadata": {},
   "outputs": [
    {
     "name": "stdout",
     "output_type": "stream",
     "text": [
      "      Name  Age  Gender  Salary\n",
      "0     John   25    Male   50000\n",
      "1    Alice   30  Female   55000\n",
      "2      Bob   22    Male   40000\n",
      "3      Eve   35  Female   70000\n",
      "4  Charlie   28    Male   48000\n"
     ]
    }
   ],
   "source": [
    "data = {'Name': ['John', 'Alice', 'Bob', 'Eve', 'Charlie'], \n",
    "        'Age': [25, 30, 22, 35, 28], \n",
    "        'Gender': ['Male', 'Female', 'Male', 'Female', 'Male'], \n",
    "        'Salary': [50000, 55000, 40000, 70000, 48000]}\n",
    "\n",
    "df = pd.DataFrame(data)\n",
    "# Display the entire DataFrame\n",
    "print(df)"
   ]
  },
  {
   "cell_type": "markdown",
   "id": "c6971515",
   "metadata": {},
   "source": [
    "<p style=\"font-family:Verdana; font-size: 22px; color: orange\"> 1. Accessing Columns From DataFrame</p>"
   ]
  },
  {
   "cell_type": "code",
   "execution_count": 4,
   "id": "4d2b7092",
   "metadata": {},
   "outputs": [
    {
     "name": "stdout",
     "output_type": "stream",
     "text": [
      "0      Male\n",
      "1    Female\n",
      "2      Male\n",
      "3    Female\n",
      "4      Male\n",
      "Name: Gender, dtype: object\n"
     ]
    }
   ],
   "source": [
    "# Access the 'Age' column\n",
    "age_column = df['Gender']\n",
    "print(age_column)"
   ]
  },
  {
   "cell_type": "markdown",
   "id": "2cd00dc0",
   "metadata": {},
   "source": [
    "<p style=\"font-family:Verdana; font-size: 22px; color: orange\"> 2. Accessing Rows by Index</p>"
   ]
  },
  {
   "cell_type": "code",
   "execution_count": 5,
   "id": "57413c10",
   "metadata": {},
   "outputs": [
    {
     "name": "stdout",
     "output_type": "stream",
     "text": [
      "Name       Alice\n",
      "Age           30\n",
      "Gender    Female\n",
      "Salary     55000\n",
      "Name: 1, dtype: object\n"
     ]
    }
   ],
   "source": [
    "# Access the row at index 1 (second row)\n",
    "second_row = df.iloc[1]\n",
    "print(second_row)"
   ]
  },
  {
   "cell_type": "markdown",
   "id": "f9f1e662",
   "metadata": {},
   "source": [
    "<p style=\"font-family:Verdana; font-size: 22px; color: orange\"> 3. Accessing Multiple Rows or Columns</p>"
   ]
  },
  {
   "cell_type": "code",
   "execution_count": 6,
   "id": "adbcaf8c",
   "metadata": {},
   "outputs": [
    {
     "name": "stdout",
     "output_type": "stream",
     "text": [
      "    Name  Age\n",
      "0   John   25\n",
      "1  Alice   30\n",
      "2    Bob   22\n"
     ]
    }
   ],
   "source": [
    "# Access the first three rows and the 'Name' and 'Age' columns\n",
    "subset = df.loc[0:2, ['Name', 'Age']]\n",
    "print(subset)"
   ]
  },
  {
   "cell_type": "markdown",
   "id": "4bb791bb",
   "metadata": {},
   "source": [
    "<p style=\"font-family:Verdana; font-size: 22px; color: orange\"> 4. Accessing Rows Based on Conditions</p>"
   ]
  },
  {
   "cell_type": "code",
   "execution_count": 7,
   "id": "422b37b5",
   "metadata": {},
   "outputs": [
    {
     "name": "stdout",
     "output_type": "stream",
     "text": [
      "      Name  Age  Gender  Salary\n",
      "1    Alice   30  Female   55000\n",
      "3      Eve   35  Female   70000\n",
      "4  Charlie   28    Male   48000\n"
     ]
    }
   ],
   "source": [
    "# Access rows where 'Age' is greater than 25\n",
    "filtered_data = df[df['Age'] > 25]\n",
    "print(filtered_data)"
   ]
  },
  {
   "cell_type": "markdown",
   "id": "42a707bf",
   "metadata": {},
   "source": [
    "<p style=\"font-family:Verdana; font-size: 22px; color: orange\"> 5. Accessing Specific Cells with at and iat</p>"
   ]
  },
  {
   "cell_type": "code",
   "execution_count": 9,
   "id": "6a48a8a0",
   "metadata": {},
   "outputs": [
    {
     "name": "stdout",
     "output_type": "stream",
     "text": [
      "55000\n"
     ]
    }
   ],
   "source": [
    "# Access the 'Salary' of the row with label 2\n",
    "salary_at_index_2 = df.at[1, 'Salary']\n",
    "print(salary_at_index_2)"
   ]
  },
  {
   "cell_type": "code",
   "execution_count": null,
   "id": "d092499a",
   "metadata": {},
   "outputs": [],
   "source": []
  }
 ],
 "metadata": {
  "kernelspec": {
   "display_name": "base",
   "language": "python",
   "name": "python3"
  },
  "language_info": {
   "codemirror_mode": {
    "name": "ipython",
    "version": 3
   },
   "file_extension": ".py",
   "mimetype": "text/x-python",
   "name": "python",
   "nbconvert_exporter": "python",
   "pygments_lexer": "ipython3",
   "version": "3.12.7"
  }
 },
 "nbformat": 4,
 "nbformat_minor": 5
}
