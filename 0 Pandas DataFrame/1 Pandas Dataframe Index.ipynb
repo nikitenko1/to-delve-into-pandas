{
 "cells": [
  {
   "cell_type": "markdown",
   "id": "bb5cb6da",
   "metadata": {},
   "source": [
    "<p style=\"font-family:Verdana; font-size: 26px; color: orange\"> Pandas Dataframe Index</p>"
   ]
  },
  {
   "cell_type": "code",
   "execution_count": 10,
   "id": "a073203d",
   "metadata": {},
   "outputs": [],
   "source": [
    "import pandas as pd\n",
    "import numpy as np "
   ]
  },
  {
   "cell_type": "markdown",
   "id": "97a2393d",
   "metadata": {},
   "source": [
    "<p style=\"font-family:Verdana; font-size: 22px; color: orange\"> 1. Accessing and Modifying the Index</p>"
   ]
  },
  {
   "cell_type": "code",
   "execution_count": 11,
   "id": "5ffb5b73",
   "metadata": {},
   "outputs": [
    {
     "name": "stdout",
     "output_type": "stream",
     "text": [
      "RangeIndex(start=0, stop=5, step=1)\n"
     ]
    }
   ],
   "source": [
    "data = {'Name': ['John', 'Alice', 'Bob', 'Eve', 'Charlie'],\n",
    "        'Age': [25, 30, 22, 35, 28],\n",
    "        'Gender': ['Male', 'Female', 'Male', 'Female', 'Male'],\n",
    "        'Salary': [50000, 55000, 40000, 70000, 48000]}\n",
    "\n",
    "df = pd.DataFrame(data)\n",
    "print(df.index)  # Accessing the index"
   ]
  },
  {
   "cell_type": "markdown",
   "id": "c6971515",
   "metadata": {},
   "source": [
    "<p style=\"font-family:Verdana; font-size: 22px; color: orange\"> 2. Setting a Custom Index</p>"
   ]
  },
  {
   "cell_type": "code",
   "execution_count": 14,
   "id": "4d2b7092",
   "metadata": {},
   "outputs": [
    {
     "name": "stdout",
     "output_type": "stream",
     "text": [
      "         Age  Gender  Salary\n",
      "Name                        \n",
      "John      25    Male   50000\n",
      "Alice     30  Female   55000\n",
      "Bob       22    Male   40000\n",
      "Eve       35  Female   70000\n",
      "Charlie   28    Male   48000\n"
     ]
    }
   ],
   "source": [
    "# Set 'Name' column as the index\n",
    "df_with_index = df.set_index('Name')\n",
    "print(df_with_index) "
   ]
  },
  {
   "cell_type": "markdown",
   "id": "2cd00dc0",
   "metadata": {},
   "source": [
    "<p style=\"font-family:Verdana; font-size: 22px; color: orange\"> 3. Resetting the Index</p>"
   ]
  },
  {
   "cell_type": "code",
   "execution_count": 15,
   "id": "57413c10",
   "metadata": {},
   "outputs": [
    {
     "name": "stdout",
     "output_type": "stream",
     "text": [
      "   index     Name  Age  Gender  Salary\n",
      "0      0     John   25    Male   50000\n",
      "1      1    Alice   30  Female   55000\n",
      "2      2      Bob   22    Male   40000\n",
      "3      3      Eve   35  Female   70000\n",
      "4      4  Charlie   28    Male   48000\n"
     ]
    }
   ],
   "source": [
    "# Reset the index back to the default integer index\n",
    "df_reset = df.reset_index()\n",
    "print(df_reset)"
   ]
  },
  {
   "cell_type": "markdown",
   "id": "f9f1e662",
   "metadata": {},
   "source": [
    "<p style=\"font-family:Verdana; font-size: 22px; color: orange\"> 5. Changing the Index</p>"
   ]
  },
  {
   "cell_type": "code",
   "execution_count": 20,
   "id": "adbcaf8c",
   "metadata": {},
   "outputs": [
    {
     "name": "stdout",
     "output_type": "stream",
     "text": [
      "        Name  Gender  Salary\n",
      "Age                         \n",
      "25      John    Male   50000\n",
      "30     Alice  Female   55000\n",
      "22       Bob    Male   40000\n",
      "35       Eve  Female   70000\n",
      "28   Charlie    Male   48000\n"
     ]
    }
   ],
   "source": [
    "# Set 'Age' as the new index\n",
    "df_with_new_index = df.set_index('Age')\n",
    "print(df_with_new_index)"
   ]
  },
  {
   "cell_type": "code",
   "execution_count": null,
   "id": "422b37b5",
   "metadata": {},
   "outputs": [],
   "source": []
  }
 ],
 "metadata": {
  "kernelspec": {
   "display_name": "base",
   "language": "python",
   "name": "python3"
  },
  "language_info": {
   "codemirror_mode": {
    "name": "ipython",
    "version": 3
   },
   "file_extension": ".py",
   "mimetype": "text/x-python",
   "name": "python",
   "nbconvert_exporter": "python",
   "pygments_lexer": "ipython3",
   "version": "3.12.7"
  }
 },
 "nbformat": 4,
 "nbformat_minor": 5
}
