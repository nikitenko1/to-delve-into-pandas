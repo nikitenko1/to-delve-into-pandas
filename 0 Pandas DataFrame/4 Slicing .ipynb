{
 "cells": [
  {
   "cell_type": "markdown",
   "id": "bb5cb6da",
   "metadata": {},
   "source": [
    "<p style=\"font-family:Verdana; font-size: 26px; color: orange\"> Slicing Pandas Dataframe</p>"
   ]
  },
  {
   "cell_type": "code",
   "execution_count": 1,
   "id": "a073203d",
   "metadata": {},
   "outputs": [],
   "source": [
    "import pandas as pd\n",
    "import numpy as np "
   ]
  },
  {
   "cell_type": "markdown",
   "id": "ecccc7f1",
   "metadata": {},
   "source": [
    "<p style=\"font-family:Verdana; font-size: 22px; color: orange\"> Create a Custom Dataframe</p>"
   ]
  },
  {
   "cell_type": "code",
   "execution_count": 2,
   "id": "5ffb5b73",
   "metadata": {},
   "outputs": [
    {
     "name": "stdout",
     "output_type": "stream",
     "text": [
      "            Name  Age  Weight   Salary\n",
      "0      M.S.Dhoni   36      75  5428000\n",
      "1  A.B.D Villers   38      74  3428000\n",
      "2        V.Kohli   31      70  8428000\n",
      "3        S.Smith   34      80  4428000\n",
      "4        C.Gayle   40     100  4528000\n",
      "5         J.Root   33      72  7028000\n",
      "6     K.Peterson   42      85  2528000\n"
     ]
    }
   ],
   "source": [
    "player_list = [['M.S.Dhoni', 36, 75, 5428000],\n",
    "               ['A.B.D Villers', 38, 74, 3428000],\n",
    "               ['V.Kohli', 31, 70, 8428000],\n",
    "               ['S.Smith', 34, 80, 4428000],\n",
    "               ['C.Gayle', 40, 100, 4528000],\n",
    "               ['J.Root', 33, 72, 7028000],\n",
    "               ['K.Peterson', 42, 85, 2528000]]\n",
    "\n",
    "df = pd.DataFrame(player_list, columns=['Name', 'Age', 'Weight', 'Salary'])\n",
    "print(df) "
   ]
  },
  {
   "cell_type": "markdown",
   "id": "8b235c1b",
   "metadata": {},
   "source": [
    "<p style=\"font-family:Verdana; font-size: 22px; color: orange\"> Slicing Using iloc[] (Integer-Based Indexing)</p>"
   ]
  },
  {
   "cell_type": "code",
   "execution_count": 3,
   "id": "337b252d",
   "metadata": {},
   "outputs": [],
   "source": [
    "# The iloc[] method in Pandas allows us to extract specific rows and columns \n",
    "# based on their integer positions starting from 0. "
   ]
  },
  {
   "cell_type": "markdown",
   "id": "35e9a129",
   "metadata": {},
   "source": [
    "> Slicing Rows in dataframe"
   ]
  },
  {
   "cell_type": "code",
   "execution_count": 4,
   "id": "b9c997f5",
   "metadata": {},
   "outputs": [
    {
     "name": "stdout",
     "output_type": "stream",
     "text": [
      "            Name  Age  Weight   Salary\n",
      "0      M.S.Dhoni   36      75  5428000\n",
      "1  A.B.D Villers   38      74  3428000\n",
      "2        V.Kohli   31      70  8428000\n",
      "3        S.Smith   34      80  4428000\n"
     ]
    }
   ],
   "source": [
    "df1 = df.iloc[0:4]\n",
    "print(df1)"
   ]
  },
  {
   "cell_type": "markdown",
   "id": "68635ab8",
   "metadata": {},
   "source": [
    ">> Slicing Columns in dataframe"
   ]
  },
  {
   "cell_type": "code",
   "execution_count": 5,
   "id": "1a4ee5f1",
   "metadata": {},
   "outputs": [
    {
     "name": "stdout",
     "output_type": "stream",
     "text": [
      "            Name  Age\n",
      "0      M.S.Dhoni   36\n",
      "1  A.B.D Villers   38\n",
      "2        V.Kohli   31\n",
      "3        S.Smith   34\n",
      "4        C.Gayle   40\n",
      "5         J.Root   33\n",
      "6     K.Peterson   42\n"
     ]
    }
   ],
   "source": [
    "df1 = df.iloc[:, 0:2]\n",
    "\n",
    "print(df1)"
   ]
  },
  {
   "cell_type": "markdown",
   "id": "a91d47b1",
   "metadata": {},
   "source": [
    ">>> Selecting a Specific Cell in a Pandas DataFrame"
   ]
  },
  {
   "cell_type": "code",
   "execution_count": 6,
   "id": "472e8178",
   "metadata": {},
   "outputs": [
    {
     "name": "stdout",
     "output_type": "stream",
     "text": [
      "Specific Cell Value: 8428000\n"
     ]
    }
   ],
   "source": [
    "value = df.iloc[2, 3]  \n",
    "print(\"Specific Cell Value:\", value)"
   ]
  },
  {
   "cell_type": "markdown",
   "id": "8085e2bc",
   "metadata": {},
   "source": [
    ">>>> Using Boolean Conditions in a Pandas DataFrame"
   ]
  },
  {
   "cell_type": "code",
   "execution_count": 7,
   "id": "806e093d",
   "metadata": {},
   "outputs": [
    {
     "name": "stdout",
     "output_type": "stream",
     "text": [
      "\n",
      "Filtered Data based on Age > 35:\n",
      "             Name  Age  Weight   Salary\n",
      "0      M.S.Dhoni   36      75  5428000\n",
      "1  A.B.D Villers   38      74  3428000\n",
      "4        C.Gayle   40     100  4528000\n",
      "6     K.Peterson   42      85  2528000\n"
     ]
    }
   ],
   "source": [
    "data = df[df['Age'] > 35].iloc[:, :] \n",
    "print(\"\\nFiltered Data based on Age > 35:\\n\", data)"
   ]
  },
  {
   "cell_type": "markdown",
   "id": "cbb07bfc",
   "metadata": {},
   "source": [
    "<p style=\"font-family:Verdana; font-size: 22px; color: orange\"> Slicing Using loc[]</p>"
   ]
  },
  {
   "cell_type": "markdown",
   "id": "f16574ac",
   "metadata": {},
   "source": [
    "> Slicing Rows in Dataframe"
   ]
  },
  {
   "cell_type": "code",
   "execution_count": 8,
   "id": "ba0b6c0d",
   "metadata": {},
   "outputs": [
    {
     "name": "stdout",
     "output_type": "stream",
     "text": [
      "               Age  Weight   Salary\n",
      "Name                               \n",
      "A.B.D Villers   38      74  3428000\n",
      "V.Kohli         31      70  8428000\n",
      "S.Smith         34      80  4428000\n"
     ]
    }
   ],
   "source": [
    "df.set_index('Name', inplace=True)\n",
    "\n",
    "custom = df.loc['A.B.D Villers':'S.Smith']\n",
    "print(custom)"
   ]
  },
  {
   "cell_type": "markdown",
   "id": "33d55bb6",
   "metadata": {},
   "source": [
    ">> Selecting Specified cell in Dataframe"
   ]
  },
  {
   "cell_type": "code",
   "execution_count": 9,
   "id": "85224499",
   "metadata": {},
   "outputs": [
    {
     "name": "stdout",
     "output_type": "stream",
     "text": [
      "\n",
      "Value of the Specific Cell (V.Kohli, Salary): 8428000\n"
     ]
    }
   ],
   "source": [
    "value = df.loc['V.Kohli', 'Salary']\n",
    "print(\"\\nValue of the Specific Cell (V.Kohli, Salary):\", value)"
   ]
  }
 ],
 "metadata": {
  "kernelspec": {
   "display_name": "base",
   "language": "python",
   "name": "python3"
  },
  "language_info": {
   "codemirror_mode": {
    "name": "ipython",
    "version": 3
   },
   "file_extension": ".py",
   "mimetype": "text/x-python",
   "name": "python",
   "nbconvert_exporter": "python",
   "pygments_lexer": "ipython3",
   "version": "3.12.7"
  }
 },
 "nbformat": 4,
 "nbformat_minor": 5
}
