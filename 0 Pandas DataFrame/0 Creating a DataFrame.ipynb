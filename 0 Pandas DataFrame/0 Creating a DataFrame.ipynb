{
 "cells": [
  {
   "cell_type": "markdown",
   "id": "bb5cb6da",
   "metadata": {},
   "source": [
    "<p style=\"font-family:Verdana; font-size: 26px; color: orange\"> Creating an Empty DataFrame</p>"
   ]
  },
  {
   "cell_type": "code",
   "execution_count": 2,
   "id": "a073203d",
   "metadata": {},
   "outputs": [
    {
     "name": "stdout",
     "output_type": "stream",
     "text": [
      "Empty DataFrame\n",
      "Columns: []\n",
      "Index: []\n"
     ]
    }
   ],
   "source": [
    "import pandas as pd\n",
    "\n",
    "df = pd.DataFrame()\n",
    "\n",
    "print(df)"
   ]
  },
  {
   "cell_type": "markdown",
   "id": "97a2393d",
   "metadata": {},
   "source": [
    "<p style=\"font-family:Verdana; font-size: 22px; color: orange\"> Creating a DataFrame from a List</p>"
   ]
  },
  {
   "cell_type": "code",
   "execution_count": 4,
   "id": "5ffb5b73",
   "metadata": {},
   "outputs": [
    {
     "data": {
      "text/html": [
       "<div>\n",
       "<style scoped>\n",
       "    .dataframe tbody tr th:only-of-type {\n",
       "        vertical-align: middle;\n",
       "    }\n",
       "\n",
       "    .dataframe tbody tr th {\n",
       "        vertical-align: top;\n",
       "    }\n",
       "\n",
       "    .dataframe thead th {\n",
       "        text-align: right;\n",
       "    }\n",
       "</style>\n",
       "<table border=\"1\" class=\"dataframe\">\n",
       "  <thead>\n",
       "    <tr style=\"text-align: right;\">\n",
       "      <th></th>\n",
       "      <th>0</th>\n",
       "    </tr>\n",
       "  </thead>\n",
       "  <tbody>\n",
       "    <tr>\n",
       "      <th>0</th>\n",
       "      <td>Geeks</td>\n",
       "    </tr>\n",
       "    <tr>\n",
       "      <th>1</th>\n",
       "      <td>For</td>\n",
       "    </tr>\n",
       "    <tr>\n",
       "      <th>2</th>\n",
       "      <td>Geeks</td>\n",
       "    </tr>\n",
       "    <tr>\n",
       "      <th>3</th>\n",
       "      <td>is</td>\n",
       "    </tr>\n",
       "    <tr>\n",
       "      <th>4</th>\n",
       "      <td>portal</td>\n",
       "    </tr>\n",
       "    <tr>\n",
       "      <th>5</th>\n",
       "      <td>for</td>\n",
       "    </tr>\n",
       "    <tr>\n",
       "      <th>6</th>\n",
       "      <td>Geeks</td>\n",
       "    </tr>\n",
       "  </tbody>\n",
       "</table>\n",
       "</div>"
      ],
      "text/plain": [
       "        0\n",
       "0   Geeks\n",
       "1     For\n",
       "2   Geeks\n",
       "3      is\n",
       "4  portal\n",
       "5     for\n",
       "6   Geeks"
      ]
     },
     "execution_count": 4,
     "metadata": {},
     "output_type": "execute_result"
    }
   ],
   "source": [
    "lst = ['Geeks', 'For', 'Geeks', 'is', \n",
    "            'portal', 'for', 'Geeks']\n",
    "\n",
    "df = pd.DataFrame(lst)\n",
    "df"
   ]
  },
  {
   "cell_type": "markdown",
   "id": "c6971515",
   "metadata": {},
   "source": [
    "<p style=\"font-family:Verdana; font-size: 22px; color: orange\"> Creating DataFrame from dict of Numpy Array</p>"
   ]
  },
  {
   "cell_type": "code",
   "execution_count": 5,
   "id": "4d2b7092",
   "metadata": {},
   "outputs": [
    {
     "name": "stdout",
     "output_type": "stream",
     "text": [
      "   A  B  C\n",
      "0  1  2  3\n",
      "1  4  5  6\n",
      "2  7  8  9\n"
     ]
    }
   ],
   "source": [
    "import numpy as np\n",
    "\n",
    "data = np.array([[1, 2, 3], [4, 5, 6], [7, 8, 9]])\n",
    "df = pd.DataFrame(data, columns=['A', 'B', 'C'])\n",
    "print(df)"
   ]
  },
  {
   "cell_type": "markdown",
   "id": "2cd00dc0",
   "metadata": {},
   "source": [
    "<p style=\"font-family:Verdana; font-size: 22px; color: orange\"> Creating a DataFrame from a List of Dictionaries</p>"
   ]
  },
  {
   "cell_type": "code",
   "execution_count": 6,
   "id": "57413c10",
   "metadata": {},
   "outputs": [
    {
     "name": "stdout",
     "output_type": "stream",
     "text": [
      "     name  degree  score\n",
      "0  aparna     MBA     90\n",
      "1  pankaj     BCA     40\n",
      "2  sudhir  M.Tech     80\n",
      "3   Geeku     MBA     98\n"
     ]
    }
   ],
   "source": [
    "dict = {'name':[\"aparna\", \"pankaj\", \"sudhir\", \"Geeku\"],\n",
    "        'degree': [\"MBA\", \"BCA\", \"M.Tech\", \"MBA\"],\n",
    "        'score':[90, 40, 80, 98]}\n",
    "\n",
    "df = pd.DataFrame(dict)\n",
    "\n",
    "print(df)"
   ]
  },
  {
   "cell_type": "code",
   "execution_count": null,
   "id": "adbcaf8c",
   "metadata": {},
   "outputs": [],
   "source": []
  }
 ],
 "metadata": {
  "kernelspec": {
   "display_name": "base",
   "language": "python",
   "name": "python3"
  },
  "language_info": {
   "codemirror_mode": {
    "name": "ipython",
    "version": 3
   },
   "file_extension": ".py",
   "mimetype": "text/x-python",
   "name": "python",
   "nbconvert_exporter": "python",
   "pygments_lexer": "ipython3",
   "version": "3.12.7"
  }
 },
 "nbformat": 4,
 "nbformat_minor": 5
}
