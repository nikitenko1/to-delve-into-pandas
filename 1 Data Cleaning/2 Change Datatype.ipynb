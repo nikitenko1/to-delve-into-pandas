{
 "cells": [
  {
   "cell_type": "markdown",
   "id": "bb5cb6da",
   "metadata": {},
   "source": [
    "<p style=\"font-family:Verdana; font-size: 26px; color: orange\"> Pandas Change Datatype</p>"
   ]
  },
  {
   "cell_type": "code",
   "execution_count": 1,
   "id": "a073203d",
   "metadata": {},
   "outputs": [
    {
     "name": "stdout",
     "output_type": "stream",
     "text": [
      "Empty DataFrame\n",
      "Columns: []\n",
      "Index: []\n"
     ]
    }
   ],
   "source": [
    "import pandas as pd\n",
    "\n",
    "df = pd.DataFrame()\n",
    "\n",
    "print(df)"
   ]
  },
  {
   "cell_type": "markdown",
   "id": "97a2393d",
   "metadata": {},
   "source": [
    "<p style=\"font-family:Verdana; font-size: 22px; color: orange\"> Using astype() method</p>"
   ]
  },
  {
   "cell_type": "code",
   "execution_count": 2,
   "id": "5ffb5b73",
   "metadata": {},
   "outputs": [
    {
     "name": "stdout",
     "output_type": "stream",
     "text": [
      "Name       object\n",
      "Age       float64\n",
      "Gender     object\n",
      "Salary      int64\n",
      "dtype: object\n"
     ]
    }
   ],
   "source": [
    "data = {'Name': ['John', 'Alice', 'Bob', 'Eve', 'Charlie'], \n",
    "        'Age': [25, 30, 22, 35, 28], \n",
    "        'Gender': ['Male', 'Female', 'Male', 'Female', 'Male'], \n",
    "        'Salary': [50000, 55000, 40000, 70000, 48000]}\n",
    "\n",
    "df = pd.DataFrame(data)\n",
    "\n",
    "# Convert 'Age' column to float type\n",
    "df['Age'] = df['Age'].astype(float)\n",
    "\n",
    "print(df.dtypes)"
   ]
  },
  {
   "cell_type": "markdown",
   "id": "c6971515",
   "metadata": {},
   "source": [
    "<p style=\"font-family:Verdana; font-size: 22px; color: orange\"> Converting a Column to a DateTime Type</p>"
   ]
  },
  {
   "cell_type": "code",
   "execution_count": 3,
   "id": "4d2b7092",
   "metadata": {},
   "outputs": [
    {
     "name": "stdout",
     "output_type": "stream",
     "text": [
      "Name                 object\n",
      "Age                 float64\n",
      "Gender               object\n",
      "Salary                int64\n",
      "Join Date    datetime64[ns]\n",
      "dtype: object\n"
     ]
    }
   ],
   "source": [
    "# Example: Create a 'Join Date' column as a string\n",
    "df['Join Date'] = ['2025-01-01', '2023-05-22', '2022-03-15', '2025-07-30', '2023-11-11']\n",
    "\n",
    "# Convert 'Join Date' to datetime type\n",
    "df['Join Date'] = pd.to_datetime(df['Join Date'])\n",
    "print(df.dtypes)"
   ]
  },
  {
   "cell_type": "markdown",
   "id": "d833de6b",
   "metadata": {},
   "source": [
    "<p style=\"font-family:Verdana; font-size: 22px; color: orange\"> Changing Multiple Columns' Data Types</p>"
   ]
  },
  {
   "cell_type": "code",
   "execution_count": 4,
   "id": "686bc19d",
   "metadata": {},
   "outputs": [
    {
     "name": "stdout",
     "output_type": "stream",
     "text": [
      "Name                 object\n",
      "Age                 float64\n",
      "Gender               object\n",
      "Salary               object\n",
      "Join Date    datetime64[ns]\n",
      "dtype: object\n"
     ]
    }
   ],
   "source": [
    "# Convert 'Age' to float and 'Salary' to string\n",
    "df = df.astype({'Age': 'float64', 'Salary': 'str'})\n",
    "print(df.dtypes)"
   ]
  }
 ],
 "metadata": {
  "kernelspec": {
   "display_name": "Python 3",
   "language": "python",
   "name": "python3"
  },
  "language_info": {
   "codemirror_mode": {
    "name": "ipython",
    "version": 3
   },
   "file_extension": ".py",
   "mimetype": "text/x-python",
   "name": "python",
   "nbconvert_exporter": "python",
   "pygments_lexer": "ipython3",
   "version": "3.12.7"
  }
 },
 "nbformat": 4,
 "nbformat_minor": 5
}
