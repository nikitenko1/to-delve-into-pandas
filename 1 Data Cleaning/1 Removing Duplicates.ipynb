{
 "cells": [
  {
   "cell_type": "markdown",
   "id": "bb5cb6da",
   "metadata": {},
   "source": [
    "<p style=\"font-family:Verdana; font-size: 26px; color: orange\"> Pandas dataframe.drop_duplicates()</p>"
   ]
  },
  {
   "cell_type": "code",
   "execution_count": 2,
   "id": "a073203d",
   "metadata": {},
   "outputs": [
    {
     "name": "stdout",
     "output_type": "stream",
     "text": [
      "    Name  Age     City\n",
      "0  Alice   25       NY\n",
      "1    Bob   30       LA\n",
      "2  Alice   25       NY\n",
      "3  David   40  Chicago \n",
      "\n",
      "\n",
      "     Name  Age     City\n",
      "0  Alice   25       NY\n",
      "1    Bob   30       LA\n",
      "3  David   40  Chicago\n"
     ]
    }
   ],
   "source": [
    "import pandas as pd\n",
    "data = {\n",
    "    \"Name\": [\"Alice\", \"Bob\", \"Alice\", \"David\"],\n",
    "    \"Age\": [25, 30, 25, 40],\n",
    "    \"City\": [\"NY\", \"LA\", \"NY\", \"Chicago\"]\n",
    "}\n",
    "before = pd.DataFrame(data)\n",
    " \n",
    "\n",
    "# Removing duplicates\n",
    "after = before.drop_duplicates()\n",
    "print(before, \"\\n\\n\\n\", after)"
   ]
  },
  {
   "cell_type": "code",
   "execution_count": null,
   "id": "573e88c1",
   "metadata": {},
   "outputs": [],
   "source": [
    "# By default, drop_duplicates() scans the entire DataFrame for duplicate rows and removes all subsequent occurrences, \n",
    "# retaining only the first instance being the simple and efficient method. "
   ]
  },
  {
   "cell_type": "markdown",
   "id": "de89acf8",
   "metadata": {},
   "source": [
    "> The drop_duplicates() works by identifying duplicates based on all columns (default) or specified columns and removing them as per your requirements.\n",
    ">> 1. Dropping Duplicates Based on Specific Columns"
   ]
  },
  {
   "cell_type": "code",
   "execution_count": 3,
   "id": "221303c8",
   "metadata": {},
   "outputs": [
    {
     "name": "stdout",
     "output_type": "stream",
     "text": [
      "    Name  Age     City\n",
      "0  Alice   25       NY\n",
      "1    Bob   30       LA\n",
      "2  Alice   25       SF\n",
      "3  David   40  Chicago \n",
      "\n",
      "\n",
      "     Name  Age     City\n",
      "0  Alice   25       NY\n",
      "1    Bob   30       LA\n",
      "3  David   40  Chicago\n"
     ]
    }
   ],
   "source": [
    "before = pd.DataFrame({\n",
    "    'Name': ['Alice', 'Bob', 'Alice', 'David'],\n",
    "    'Age': [25, 30, 25, 40],\n",
    "    'City': ['NY', 'LA', 'SF', 'Chicago']\n",
    "})\n",
    "\n",
    "# Drop duplicates based on the 'Name' column\n",
    "after = before.drop_duplicates(subset=['Name'])\n",
    "print(before, \"\\n\\n\\n\", after)"
   ]
  },
  {
   "cell_type": "markdown",
   "id": "7a188ff6",
   "metadata": {},
   "source": [
    ">> 2. Keeping the Last Occurrence\n",
    ">>> The keep='last' parameter ensures the last occurrence of each duplicate is retained instead of the first."
   ]
  },
  {
   "cell_type": "code",
   "execution_count": 4,
   "id": "776167d3",
   "metadata": {},
   "outputs": [
    {
     "name": "stdout",
     "output_type": "stream",
     "text": [
      "    Name  Age     City\n",
      "0  Alice   25       NY\n",
      "1    Bob   30       LA\n",
      "2  Alice   25       NY\n",
      "3  David   40  Chicago \n",
      "\n",
      "\n",
      "     Name  Age     City\n",
      "1    Bob   30       LA\n",
      "2  Alice   25       NY\n",
      "3  David   40  Chicago\n"
     ]
    }
   ],
   "source": [
    "before = pd.DataFrame({\n",
    "    'Name': ['Alice', 'Bob', 'Alice', 'David'],\n",
    "    'Age': [25, 30, 25, 40],\n",
    "    'City': ['NY', 'LA', 'NY', 'Chicago']\n",
    "})\n",
    "\n",
    "# Keep the last occurrence of duplicates\n",
    "after = before.drop_duplicates(keep='last')\n",
    "print(before, \"\\n\\n\\n\", after)"
   ]
  },
  {
   "cell_type": "markdown",
   "id": "fc4fac50",
   "metadata": {},
   "source": [
    "> 3. Dropping All Duplicates\n",
    ">> To remove all rows with duplicates, use keep=False."
   ]
  },
  {
   "cell_type": "code",
   "execution_count": 5,
   "id": "790930c2",
   "metadata": {},
   "outputs": [
    {
     "name": "stdout",
     "output_type": "stream",
     "text": [
      "    Name  Age     City\n",
      "0  Alice   25       NY\n",
      "1    Bob   30       LA\n",
      "2  Alice   25       NY\n",
      "3  David   40  Chicago \n",
      "\n",
      "\n",
      "     Name  Age     City\n",
      "1    Bob   30       LA\n",
      "2  Alice   25       NY\n",
      "3  David   40  Chicago\n"
     ]
    }
   ],
   "source": [
    "before = pd.DataFrame({\n",
    "    'Name': ['Alice', 'Bob', 'Alice', 'David'],\n",
    "    'Age': [25, 30, 25, 40],\n",
    "    'City': ['NY', 'LA', 'NY', 'Chicago']\n",
    "})\n",
    "# Drop all duplicates\n",
    "result = before.drop_duplicates(keep=False)\n",
    "print(before, \"\\n\\n\\n\", after)"
   ]
  },
  {
   "cell_type": "markdown",
   "id": "79b35463",
   "metadata": {},
   "source": [
    "> 4. Modifying the Original DataFrame Directly\n",
    ">> To modify the original DataFrame directly without creating a new one, use inplace=True. "
   ]
  },
  {
   "cell_type": "code",
   "execution_count": 6,
   "id": "4d878977",
   "metadata": {},
   "outputs": [
    {
     "name": "stdout",
     "output_type": "stream",
     "text": [
      "    Name  Age     City\n",
      "0  Alice   25       NY\n",
      "1    Bob   30       LA\n",
      "3  David   40  Chicago \n",
      "\n",
      "\n",
      " None\n"
     ]
    }
   ],
   "source": [
    "before = pd.DataFrame({\n",
    "    'Name': ['Alice', 'Bob', 'Alice', 'David'],\n",
    "    'Age': [25, 30, 25, 40],\n",
    "    'City': ['NY', 'LA', 'NY', 'Chicago']\n",
    "})\n",
    "# Modify the DataFrame in place\n",
    "after = before.drop_duplicates(inplace=True)\n",
    "print(before, \"\\n\\n\\n\", after)"
   ]
  }
 ],
 "metadata": {
  "kernelspec": {
   "display_name": "Python 3",
   "language": "python",
   "name": "python3"
  },
  "language_info": {
   "codemirror_mode": {
    "name": "ipython",
    "version": 3
   },
   "file_extension": ".py",
   "mimetype": "text/x-python",
   "name": "python",
   "nbconvert_exporter": "python",
   "pygments_lexer": "ipython3",
   "version": "3.12.7"
  }
 },
 "nbformat": 4,
 "nbformat_minor": 5
}
