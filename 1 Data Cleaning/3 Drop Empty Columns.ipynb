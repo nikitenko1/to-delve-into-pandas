{
 "cells": [
  {
   "cell_type": "markdown",
   "id": "bb5cb6da",
   "metadata": {},
   "source": [
    "<p style=\"font-family:Verdana; font-size: 26px; color: orange\"> Drop Empty Columns in Pandas</p>"
   ]
  },
  {
   "cell_type": "code",
   "execution_count": 3,
   "id": "a073203d",
   "metadata": {},
   "outputs": [
    {
     "name": "stdout",
     "output_type": "stream",
     "text": [
      "Empty DataFrame\n",
      "Columns: []\n",
      "Index: []\n"
     ]
    }
   ],
   "source": [
    "import pandas as pd\n",
    "import numpy as np\n",
    "\n",
    "\n",
    "df = pd.DataFrame()\n",
    "\n",
    "print(df)"
   ]
  },
  {
   "cell_type": "markdown",
   "id": "97a2393d",
   "metadata": {},
   "source": [
    "<p style=\"font-family:Verdana; font-size: 22px; color: orange\"> The dropna() function is a powerful method in Pandas that allows us to remove rows or columns containing missing values (NaN). </p>"
   ]
  },
  {
   "cell_type": "code",
   "execution_count": 4,
   "id": "5ffb5b73",
   "metadata": {},
   "outputs": [
    {
     "name": "stdout",
     "output_type": "stream",
     "text": [
      "  FirstName Gender  Age  Department\n",
      "0     Vipul           0         NaN\n",
      "1    Ashish           0         NaN\n",
      "2     Milan           0         NaN\n"
     ]
    }
   ],
   "source": [
    "df = pd.DataFrame({'FirstName': ['Vipul', 'Ashish', 'Milan'],\n",
    "                            \"Gender\": [\"\", \"\", \"\"],\n",
    "                            \"Age\": [0, 0, 0]})\n",
    "df['Department'] = np.nan\n",
    "\n",
    "print(df)"
   ]
  },
  {
   "cell_type": "markdown",
   "id": "304ef7cf",
   "metadata": {},
   "source": [
    "> Example 1: Remove All Null Value Columns\n",
    ">> This method removes columns where all values are NaN."
   ]
  },
  {
   "cell_type": "code",
   "execution_count": 7,
   "id": "d007fa84",
   "metadata": {},
   "outputs": [
    {
     "data": {
      "text/html": [
       "<div>\n",
       "<style scoped>\n",
       "    .dataframe tbody tr th:only-of-type {\n",
       "        vertical-align: middle;\n",
       "    }\n",
       "\n",
       "    .dataframe tbody tr th {\n",
       "        vertical-align: top;\n",
       "    }\n",
       "\n",
       "    .dataframe thead th {\n",
       "        text-align: right;\n",
       "    }\n",
       "</style>\n",
       "<table border=\"1\" class=\"dataframe\">\n",
       "  <thead>\n",
       "    <tr style=\"text-align: right;\">\n",
       "      <th></th>\n",
       "      <th>FirstName</th>\n",
       "      <th>Gender</th>\n",
       "      <th>Age</th>\n",
       "      <th>Department</th>\n",
       "    </tr>\n",
       "  </thead>\n",
       "  <tbody>\n",
       "    <tr>\n",
       "      <th>0</th>\n",
       "      <td>Vipul</td>\n",
       "      <td></td>\n",
       "      <td>0</td>\n",
       "      <td>NaN</td>\n",
       "    </tr>\n",
       "    <tr>\n",
       "      <th>1</th>\n",
       "      <td>Ashish</td>\n",
       "      <td></td>\n",
       "      <td>0</td>\n",
       "      <td>NaN</td>\n",
       "    </tr>\n",
       "    <tr>\n",
       "      <th>2</th>\n",
       "      <td>Milan</td>\n",
       "      <td></td>\n",
       "      <td>0</td>\n",
       "      <td>NaN</td>\n",
       "    </tr>\n",
       "  </tbody>\n",
       "</table>\n",
       "</div>"
      ],
      "text/plain": [
       "  FirstName Gender  Age  Department\n",
       "0     Vipul           0         NaN\n",
       "1    Ashish           0         NaN\n",
       "2     Milan           0         NaN"
      ]
     },
     "metadata": {},
     "output_type": "display_data"
    },
    {
     "name": "stdout",
     "output_type": "stream",
     "text": [
      "  FirstName Gender  Age\n",
      "0     Vipul           0\n",
      "1    Ashish           0\n",
      "2     Milan           0 \n",
      "\n",
      "\n",
      " None\n"
     ]
    }
   ],
   "source": [
    "before = pd.DataFrame({'FirstName': ['Vipul', 'Ashish', 'Milan'],\n",
    "                            \"Gender\": [\"\", \"\", \"\"],\n",
    "                            \"Age\": [0, 0, 0]})\n",
    "\n",
    "before['Department'] = np.nan\n",
    "\n",
    "display(before)\n",
    "\n",
    "after = before.dropna(how='all', axis=1, inplace=True)\n",
    "\n",
    "print(before, \"\\n\\n\\n\", after)"
   ]
  },
  {
   "cell_type": "markdown",
   "id": "ea19ff90",
   "metadata": {},
   "source": [
    "> Example 2: Replace Empty Strings with Null and Drop Null Columns"
   ]
  },
  {
   "cell_type": "code",
   "execution_count": 8,
   "id": "9c7f5d53",
   "metadata": {},
   "outputs": [
    {
     "data": {
      "text/html": [
       "<div>\n",
       "<style scoped>\n",
       "    .dataframe tbody tr th:only-of-type {\n",
       "        vertical-align: middle;\n",
       "    }\n",
       "\n",
       "    .dataframe tbody tr th {\n",
       "        vertical-align: top;\n",
       "    }\n",
       "\n",
       "    .dataframe thead th {\n",
       "        text-align: right;\n",
       "    }\n",
       "</style>\n",
       "<table border=\"1\" class=\"dataframe\">\n",
       "  <thead>\n",
       "    <tr style=\"text-align: right;\">\n",
       "      <th></th>\n",
       "      <th>FirstName</th>\n",
       "      <th>Gender</th>\n",
       "      <th>Age</th>\n",
       "      <th>Department</th>\n",
       "    </tr>\n",
       "  </thead>\n",
       "  <tbody>\n",
       "    <tr>\n",
       "      <th>0</th>\n",
       "      <td>Vipul</td>\n",
       "      <td></td>\n",
       "      <td>0</td>\n",
       "      <td>NaN</td>\n",
       "    </tr>\n",
       "    <tr>\n",
       "      <th>1</th>\n",
       "      <td>Ashish</td>\n",
       "      <td></td>\n",
       "      <td>0</td>\n",
       "      <td>NaN</td>\n",
       "    </tr>\n",
       "    <tr>\n",
       "      <th>2</th>\n",
       "      <td>Milan</td>\n",
       "      <td></td>\n",
       "      <td>0</td>\n",
       "      <td>NaN</td>\n",
       "    </tr>\n",
       "  </tbody>\n",
       "</table>\n",
       "</div>"
      ],
      "text/plain": [
       "  FirstName Gender  Age  Department\n",
       "0     Vipul           0         NaN\n",
       "1    Ashish           0         NaN\n",
       "2     Milan           0         NaN"
      ]
     },
     "metadata": {},
     "output_type": "display_data"
    },
    {
     "name": "stdout",
     "output_type": "stream",
     "text": [
      "  FirstName  Age\n",
      "0     Vipul    0\n",
      "1    Ashish    0\n",
      "2     Milan    0 \n",
      "\n",
      "\n",
      " None\n"
     ]
    },
    {
     "name": "stderr",
     "output_type": "stream",
     "text": [
      "C:\\Users\\38067\\AppData\\Local\\Temp\\ipykernel_11424\\1749476037.py:9: FutureWarning: Downcasting behavior in `replace` is deprecated and will be removed in a future version. To retain the old behavior, explicitly call `result.infer_objects(copy=False)`. To opt-in to the future behavior, set `pd.set_option('future.no_silent_downcasting', True)`\n",
      "  before.replace(\"\", nan_value, inplace=True)\n"
     ]
    }
   ],
   "source": [
    "before = pd.DataFrame({'FirstName': ['Vipul', 'Ashish', 'Milan'],\n",
    "                            \"Gender\": [\"\", \"\", \"\"],\n",
    "                            \"Age\": [0, 0, 0]})\n",
    "\n",
    "before['Department'] = np.nan\n",
    "display(before)\n",
    "\n",
    "nan_value = float(\"NaN\")\n",
    "before.replace(\"\", nan_value, inplace=True)\n",
    "\n",
    "after = before.dropna(how='all', axis=1, inplace=True)\n",
    "\n",
    "print(before, \"\\n\\n\\n\", after)"
   ]
  },
  {
   "cell_type": "markdown",
   "id": "4e8db9ad",
   "metadata": {},
   "source": [
    "> Example 3: Replace Zeros with Null and Drop Null Columns"
   ]
  },
  {
   "cell_type": "code",
   "execution_count": 9,
   "id": "346bf753",
   "metadata": {},
   "outputs": [
    {
     "data": {
      "text/html": [
       "<div>\n",
       "<style scoped>\n",
       "    .dataframe tbody tr th:only-of-type {\n",
       "        vertical-align: middle;\n",
       "    }\n",
       "\n",
       "    .dataframe tbody tr th {\n",
       "        vertical-align: top;\n",
       "    }\n",
       "\n",
       "    .dataframe thead th {\n",
       "        text-align: right;\n",
       "    }\n",
       "</style>\n",
       "<table border=\"1\" class=\"dataframe\">\n",
       "  <thead>\n",
       "    <tr style=\"text-align: right;\">\n",
       "      <th></th>\n",
       "      <th>FirstName</th>\n",
       "      <th>Gender</th>\n",
       "      <th>Age</th>\n",
       "      <th>Department</th>\n",
       "    </tr>\n",
       "  </thead>\n",
       "  <tbody>\n",
       "    <tr>\n",
       "      <th>0</th>\n",
       "      <td>Vipul</td>\n",
       "      <td></td>\n",
       "      <td>0</td>\n",
       "      <td>NaN</td>\n",
       "    </tr>\n",
       "    <tr>\n",
       "      <th>1</th>\n",
       "      <td>Ashish</td>\n",
       "      <td></td>\n",
       "      <td>0</td>\n",
       "      <td>NaN</td>\n",
       "    </tr>\n",
       "    <tr>\n",
       "      <th>2</th>\n",
       "      <td>Milan</td>\n",
       "      <td></td>\n",
       "      <td>0</td>\n",
       "      <td>NaN</td>\n",
       "    </tr>\n",
       "  </tbody>\n",
       "</table>\n",
       "</div>"
      ],
      "text/plain": [
       "  FirstName Gender  Age  Department\n",
       "0     Vipul           0         NaN\n",
       "1    Ashish           0         NaN\n",
       "2     Milan           0         NaN"
      ]
     },
     "metadata": {},
     "output_type": "display_data"
    },
    {
     "name": "stdout",
     "output_type": "stream",
     "text": [
      "  FirstName Gender\n",
      "0     Vipul       \n",
      "1    Ashish       \n",
      "2     Milan        \n",
      "\n",
      "\n",
      " None\n"
     ]
    }
   ],
   "source": [
    "# If columns contain only zero values, we convert them to NaN before dropping them.\n",
    "before = pd.DataFrame({'FirstName': ['Vipul', 'Ashish', 'Milan'],\n",
    "                            \"Gender\": [\"\", \"\", \"\"],\n",
    "                            \"Age\": [0, 0, 0]})\n",
    "\n",
    "before['Department'] = np.nan\n",
    "display(before)\n",
    "\n",
    "nan_value = float(\"NaN\")\n",
    "before.replace(0, nan_value, inplace=True)\n",
    "\n",
    "after = before.dropna(how='all', axis=1, inplace=True)\n",
    "\n",
    "print(before, \"\\n\\n\\n\", after)"
   ]
  },
  {
   "cell_type": "markdown",
   "id": "39fa0691",
   "metadata": {},
   "source": [
    "> Example 4: Replace Both Zeros and Empty Strings with Null and Drop Null Columns"
   ]
  },
  {
   "cell_type": "code",
   "execution_count": 10,
   "id": "adfdd248",
   "metadata": {},
   "outputs": [
    {
     "data": {
      "text/html": [
       "<div>\n",
       "<style scoped>\n",
       "    .dataframe tbody tr th:only-of-type {\n",
       "        vertical-align: middle;\n",
       "    }\n",
       "\n",
       "    .dataframe tbody tr th {\n",
       "        vertical-align: top;\n",
       "    }\n",
       "\n",
       "    .dataframe thead th {\n",
       "        text-align: right;\n",
       "    }\n",
       "</style>\n",
       "<table border=\"1\" class=\"dataframe\">\n",
       "  <thead>\n",
       "    <tr style=\"text-align: right;\">\n",
       "      <th></th>\n",
       "      <th>FirstName</th>\n",
       "      <th>Gender</th>\n",
       "      <th>Age</th>\n",
       "      <th>Department</th>\n",
       "    </tr>\n",
       "  </thead>\n",
       "  <tbody>\n",
       "    <tr>\n",
       "      <th>0</th>\n",
       "      <td>Vipul</td>\n",
       "      <td></td>\n",
       "      <td>0</td>\n",
       "      <td>NaN</td>\n",
       "    </tr>\n",
       "    <tr>\n",
       "      <th>1</th>\n",
       "      <td>Ashish</td>\n",
       "      <td></td>\n",
       "      <td>0</td>\n",
       "      <td>NaN</td>\n",
       "    </tr>\n",
       "    <tr>\n",
       "      <th>2</th>\n",
       "      <td>Milan</td>\n",
       "      <td></td>\n",
       "      <td>0</td>\n",
       "      <td>NaN</td>\n",
       "    </tr>\n",
       "  </tbody>\n",
       "</table>\n",
       "</div>"
      ],
      "text/plain": [
       "  FirstName Gender  Age  Department\n",
       "0     Vipul           0         NaN\n",
       "1    Ashish           0         NaN\n",
       "2     Milan           0         NaN"
      ]
     },
     "metadata": {},
     "output_type": "display_data"
    },
    {
     "name": "stdout",
     "output_type": "stream",
     "text": [
      "  FirstName\n",
      "0     Vipul\n",
      "1    Ashish\n",
      "2     Milan \n",
      "\n",
      "\n",
      " None\n"
     ]
    },
    {
     "name": "stderr",
     "output_type": "stream",
     "text": [
      "C:\\Users\\38067\\AppData\\Local\\Temp\\ipykernel_11424\\2036519911.py:11: FutureWarning: Downcasting behavior in `replace` is deprecated and will be removed in a future version. To retain the old behavior, explicitly call `result.infer_objects(copy=False)`. To opt-in to the future behavior, set `pd.set_option('future.no_silent_downcasting', True)`\n",
      "  before.replace(\"\", nan_value, inplace=True)\n"
     ]
    }
   ],
   "source": [
    "# To clean a dataset fully we may need to replace both zeros and empty strings.\n",
    "before = pd.DataFrame({'FirstName': ['Vipul', 'Ashish', 'Milan'],\n",
    "                            \"Gender\": [\"\", \"\", \"\"],\n",
    "                            \"Age\": [0, 0, 0]})\n",
    "\n",
    "before['Department'] = np.nan\n",
    "display(before)\n",
    "\n",
    "nan_value = float(\"NaN\")\n",
    "before.replace(0, nan_value, inplace=True)\n",
    "before.replace(\"\", nan_value, inplace=True)\n",
    "\n",
    "after = before.dropna(how='all', axis=1, inplace=True)\n",
    "\n",
    "print(before, \"\\n\\n\\n\", after)"
   ]
  },
  {
   "cell_type": "code",
   "execution_count": null,
   "id": "3b484644",
   "metadata": {},
   "outputs": [],
   "source": []
  }
 ],
 "metadata": {
  "kernelspec": {
   "display_name": "Python 3",
   "language": "python",
   "name": "python3"
  },
  "language_info": {
   "codemirror_mode": {
    "name": "ipython",
    "version": 3
   },
   "file_extension": ".py",
   "mimetype": "text/x-python",
   "name": "python",
   "nbconvert_exporter": "python",
   "pygments_lexer": "ipython3",
   "version": "3.12.7"
  }
 },
 "nbformat": 4,
 "nbformat_minor": 5
}
