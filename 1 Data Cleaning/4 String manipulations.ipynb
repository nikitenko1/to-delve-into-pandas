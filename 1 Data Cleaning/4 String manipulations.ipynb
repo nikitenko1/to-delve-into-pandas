{
 "cells": [
  {
   "cell_type": "markdown",
   "id": "bb5cb6da",
   "metadata": {},
   "source": [
    "<p style=\"font-family:Verdana; font-size: 26px; color: orange\"> String manipulations in Pandas DataFrame</p>"
   ]
  },
  {
   "cell_type": "code",
   "execution_count": 3,
   "id": "a073203d",
   "metadata": {},
   "outputs": [
    {
     "name": "stdout",
     "output_type": "stream",
     "text": [
      "Empty DataFrame\n",
      "Columns: []\n",
      "Index: []\n"
     ]
    }
   ],
   "source": [
    "import pandas as pd\n",
    "import numpy as np\n",
    "\n",
    "df = pd.DataFrame()\n",
    "\n",
    "print(df)"
   ]
  },
  {
   "cell_type": "markdown",
   "id": "97a2393d",
   "metadata": {},
   "source": [
    "<p style=\"font-family:Verdana; font-size: 22px; color: orange\"> Create a String Dataframe using Pandas</p>"
   ]
  },
  {
   "cell_type": "code",
   "execution_count": 4,
   "id": "5ffb5b73",
   "metadata": {},
   "outputs": [
    {
     "name": "stdout",
     "output_type": "stream",
     "text": [
      "      Names       City\n",
      "0   Gulshan      Delhi\n",
      "1  Shashank     Mumbai\n",
      "2     Bablu    Kolkata\n",
      "3  Abhishek      Delhi\n",
      "4     Anand    Chennai\n",
      "5       NaN  Bangalore\n",
      "6    Pratap  Hyderabad\n"
     ]
    }
   ],
   "source": [
    "\n",
    "data = {'Names': ['Gulshan', 'Shashank', 'Bablu', 'Abhishek', 'Anand', np.nan, 'Pratap'],\n",
    "        'City': ['Delhi', 'Mumbai', 'Kolkata', 'Delhi', 'Chennai', 'Bangalore', 'Hyderabad']}\n",
    "\n",
    "df = pd.DataFrame(data)\n",
    "print(df)"
   ]
  },
  {
   "cell_type": "markdown",
   "id": "c6971515",
   "metadata": {},
   "source": [
    "<p style=\"font-family:Verdana; font-size: 22px; color: orange\"> Change Column Datatype in Pandas</p>"
   ]
  },
  {
   "cell_type": "code",
   "execution_count": 5,
   "id": "4d2b7092",
   "metadata": {},
   "outputs": [
    {
     "name": "stdout",
     "output_type": "stream",
     "text": [
      "      Names       City\n",
      "0   Gulshan      Delhi\n",
      "1  Shashank     Mumbai\n",
      "2     Bablu    Kolkata\n",
      "3  Abhishek      Delhi\n",
      "4     Anand    Chennai\n",
      "5      <NA>  Bangalore\n",
      "6    Pratap  Hyderabad\n"
     ]
    }
   ],
   "source": [
    "print(df.astype('string'))"
   ]
  },
  {
   "cell_type": "markdown",
   "id": "2cd00dc0",
   "metadata": {},
   "source": [
    "<p style=\"font-family:Verdana; font-size: 22px; color: orange\"> String Manipulations in Pandas</p>"
   ]
  },
  {
   "cell_type": "code",
   "execution_count": 6,
   "id": "57413c10",
   "metadata": {},
   "outputs": [
    {
     "name": "stdout",
     "output_type": "stream",
     "text": [
      "      Names       City\n",
      "0   Gulshan      Delhi\n",
      "1  Shashank     Mumbai\n",
      "2     Bablu    Kolkata\n",
      "3  Abhishek      Delhi\n",
      "4     Anand    Chennai\n",
      "5       NaN  Bangalore\n",
      "6    Pratap  Hyderabad\n"
     ]
    }
   ],
   "source": [
    "data = {'Names': ['Gulshan', 'Shashank', 'Bablu', 'Abhishek', 'Anand', np.nan, 'Pratap'],\n",
    "        'City': ['Delhi', 'Mumbai', 'Kolkata', 'Delhi', 'Chennai', 'Bangalore', 'Hyderabad']}\n",
    "\n",
    "df = pd.DataFrame(data)\n",
    "print(df)"
   ]
  },
  {
   "cell_type": "code",
   "execution_count": 7,
   "id": "adbcaf8c",
   "metadata": {},
   "outputs": [
    {
     "name": "stdout",
     "output_type": "stream",
     "text": [
      "0     gulshan\n",
      "1    shashank\n",
      "2       bablu\n",
      "3    abhishek\n",
      "4       anand\n",
      "5         NaN\n",
      "6      pratap\n",
      "Name: Names, dtype: object\n"
     ]
    }
   ],
   "source": [
    "print(df['Names'].str.lower())"
   ]
  },
  {
   "cell_type": "code",
   "execution_count": 8,
   "id": "737f8b6c",
   "metadata": {},
   "outputs": [
    {
     "name": "stdout",
     "output_type": "stream",
     "text": [
      "0     GULSHAN\n",
      "1    SHASHANK\n",
      "2       BABLU\n",
      "3    ABHISHEK\n",
      "4       ANAND\n",
      "5         NaN\n",
      "6      PRATAP\n",
      "Name: Names, dtype: object\n"
     ]
    }
   ],
   "source": [
    "print(df['Names'].str.upper())"
   ]
  },
  {
   "cell_type": "code",
   "execution_count": 10,
   "id": "e4bbafb9",
   "metadata": {},
   "outputs": [
    {
     "name": "stdout",
     "output_type": "stream",
     "text": [
      "0     Gulshan\n",
      "1    Shashank\n",
      "2       Bablu\n",
      "3    Abhishek\n",
      "4       Anand\n",
      "5         NaN\n",
      "6      Pratap\n",
      "Name: Names, dtype: object\n"
     ]
    }
   ],
   "source": [
    "# strip(): If there are spaces at the beginning or end of a string, \n",
    "# we should trim the strings to eliminate spaces using strip() or remove the extra spaces \n",
    "print(df['Names'].str.strip())"
   ]
  },
  {
   "cell_type": "code",
   "execution_count": 11,
   "id": "dcbed459",
   "metadata": {},
   "outputs": [
    {
     "name": "stdout",
     "output_type": "stream",
     "text": [
      "      Names   Split_Names\n",
      "0   Gulshan    [Gulsh, n]\n",
      "1  Shashank  [Sh, sh, nk]\n",
      "2     Bablu      [B, blu]\n",
      "3  Abhishek    [Abhishek]\n",
      "4     Anand      [An, nd]\n",
      "5       NaN           NaN\n",
      "6    Pratap    [Pr, t, p]\n"
     ]
    }
   ],
   "source": [
    "# split(' '): Splits each string with the given pattern.\n",
    "df['Split_Names'] = df['Names'].str.split('a')\n",
    "print(df[['Names', 'Split_Names']])"
   ]
  },
  {
   "cell_type": "code",
   "execution_count": 12,
   "id": "c255e89d",
   "metadata": {},
   "outputs": [
    {
     "name": "stdout",
     "output_type": "stream",
     "text": [
      "0    7.0\n",
      "1    8.0\n",
      "2    5.0\n",
      "3    8.0\n",
      "4    5.0\n",
      "5    NaN\n",
      "6    6.0\n",
      "Name: Names, dtype: float64\n"
     ]
    }
   ],
   "source": [
    "# len(): With the help of len() we can compute the length of each string in DataFrame \n",
    "# & if there is empty data in DataFrame, it returns NaN.\n",
    "print(df['Names'].str.len())"
   ]
  },
  {
   "cell_type": "code",
   "execution_count": 13,
   "id": "6cf2343d",
   "metadata": {},
   "outputs": [
    {
     "name": "stdout",
     "output_type": "stream",
     "text": [
      "   Bangalore  Chennai  Delhi  Hyderabad  Kolkata  Mumbai\n",
      "0          0        0      1          0        0       0\n",
      "1          0        0      0          0        0       1\n",
      "2          0        0      0          0        1       0\n",
      "3          0        0      1          0        0       0\n",
      "4          0        1      0          0        0       0\n",
      "5          1        0      0          0        0       0\n",
      "6          0        0      0          1        0       0\n"
     ]
    }
   ],
   "source": [
    "# get_dummies(): It returns the DataFrame with One-Hot Encoded values like we can see that it returns boolean value 1\n",
    "# if it exists in relative index or 0 if not exists.\n",
    "print(df['City'].str.get_dummies())"
   ]
  },
  {
   "cell_type": "code",
   "execution_count": 14,
   "id": "5d9efdf3",
   "metadata": {},
   "outputs": [
    {
     "name": "stdout",
     "output_type": "stream",
     "text": [
      "0     True\n",
      "1    False\n",
      "2    False\n",
      "3    False\n",
      "4    False\n",
      "5      NaN\n",
      "6    False\n",
      "Name: Names, dtype: object\n"
     ]
    }
   ],
   "source": [
    "# startswith(pattern): It returns true if the element or string in the DataFrame Index starts with the pattern.\n",
    "print(df['Names'].str.startswith('G'))"
   ]
  },
  {
   "cell_type": "code",
   "execution_count": 15,
   "id": "fece1441",
   "metadata": {},
   "outputs": [
    {
     "name": "stdout",
     "output_type": "stream",
     "text": [
      "0    False\n",
      "1    False\n",
      "2    False\n",
      "3    False\n",
      "4    False\n",
      "5      NaN\n",
      "6    False\n",
      "Name: Names, dtype: object\n"
     ]
    }
   ],
   "source": [
    "# endswith(pattern): It returns true if the element or string in the DataFrame Index ends with the pattern.\n",
    "print(df['Names'].str.endswith('h'))"
   ]
  },
  {
   "cell_type": "code",
   "execution_count": 16,
   "id": "f1ec8623",
   "metadata": {},
   "outputs": [
    {
     "name": "stdout",
     "output_type": "stream",
     "text": [
      "0      Gaurav\n",
      "1    Shashank\n",
      "2       Bablu\n",
      "3    Abhishek\n",
      "4       Anand\n",
      "5         NaN\n",
      "6      Pratap\n",
      "Name: Names, dtype: object\n"
     ]
    }
   ],
   "source": [
    "# Python replace(a,b): It replaces the value a with the value b like below in example 'Gulshan' is being replaced by 'Gaurav'.\n",
    "print(df['Names'].str.replace('Gulshan', 'Gaurav'))"
   ]
  },
  {
   "cell_type": "code",
   "execution_count": 17,
   "id": "03814833",
   "metadata": {},
   "outputs": [
    {
     "name": "stdout",
     "output_type": "stream",
     "text": [
      "0    5.0\n",
      "1    2.0\n",
      "2    1.0\n",
      "3   -1.0\n",
      "4    2.0\n",
      "5    NaN\n",
      "6    2.0\n",
      "Name: Names, dtype: float64\n"
     ]
    }
   ],
   "source": [
    "# Python find(pattern): It returns the first position of the first occurrence of the pattern. \n",
    "print(df['Names'].str.find('a'))"
   ]
  },
  {
   "cell_type": "code",
   "execution_count": 18,
   "id": "0162eb88",
   "metadata": {},
   "outputs": [
    {
     "name": "stdout",
     "output_type": "stream",
     "text": [
      "0       [a]\n",
      "1    [a, a]\n",
      "2       [a]\n",
      "3        []\n",
      "4       [a]\n",
      "5       NaN\n",
      "6    [a, a]\n",
      "Name: Names, dtype: object\n"
     ]
    }
   ],
   "source": [
    "print(df['Names'].str.findall('a'))"
   ]
  },
  {
   "cell_type": "code",
   "execution_count": 19,
   "id": "63de1336",
   "metadata": {},
   "outputs": [
    {
     "name": "stdout",
     "output_type": "stream",
     "text": [
      "0    False\n",
      "1    False\n",
      "2    False\n",
      "3    False\n",
      "4    False\n",
      "5      NaN\n",
      "6    False\n",
      "Name: Names, dtype: object\n"
     ]
    }
   ],
   "source": [
    "# isnumeric(): It checks whether all characters in each string in the Index of the Data-Frame are numeric or not, \n",
    "# and returns a Boolean value.\n",
    "print(df['Names'].str.isnumeric())"
   ]
  },
  {
   "cell_type": "code",
   "execution_count": 20,
   "id": "62aa540b",
   "metadata": {},
   "outputs": [
    {
     "name": "stdout",
     "output_type": "stream",
     "text": [
      "0     gULSHAN\n",
      "1    sHASHANK\n",
      "2       bABLU\n",
      "3    aBHISHEK\n",
      "4       aNAND\n",
      "5         NaN\n",
      "6      pRATAP\n",
      "Name: Names, dtype: object\n"
     ]
    }
   ],
   "source": [
    "# swapcase(): It swaps the case lower to upper and vice-versa.\n",
    "print(df['Names'].str.swapcase())"
   ]
  }
 ],
 "metadata": {
  "kernelspec": {
   "display_name": "Python 3",
   "language": "python",
   "name": "python3"
  },
  "language_info": {
   "codemirror_mode": {
    "name": "ipython",
    "version": 3
   },
   "file_extension": ".py",
   "mimetype": "text/x-python",
   "name": "python",
   "nbconvert_exporter": "python",
   "pygments_lexer": "ipython3",
   "version": "3.12.7"
  }
 },
 "nbformat": 4,
 "nbformat_minor": 5
}
