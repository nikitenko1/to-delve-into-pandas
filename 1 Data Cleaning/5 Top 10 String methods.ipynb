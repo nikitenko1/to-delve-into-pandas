{
 "cells": [
  {
   "cell_type": "markdown",
   "id": "bb5cb6da",
   "metadata": {},
   "source": [
    "<p style=\"font-family:Verdana; font-size: 26px; color: orange\"> Top 10 String methods in Pandas</p>"
   ]
  },
  {
   "cell_type": "code",
   "execution_count": 1,
   "id": "a073203d",
   "metadata": {},
   "outputs": [
    {
     "name": "stdout",
     "output_type": "stream",
     "text": [
      "Empty DataFrame\n",
      "Columns: []\n",
      "Index: []\n"
     ]
    }
   ],
   "source": [
    "import pandas as pd\n",
    "import numpy as np\n",
    "\n",
    "df = pd.DataFrame()\n",
    "\n",
    "print(df)"
   ]
  },
  {
   "cell_type": "markdown",
   "id": "97a2393d",
   "metadata": {},
   "source": [
    "<p style=\"font-family:Verdana; font-size: 22px; color: orange\"> String Methods in Pandas</p>"
   ]
  },
  {
   "cell_type": "markdown",
   "id": "3ad2c761",
   "metadata": {},
   "source": [
    "<p style=\"font-family:Verdana; font-size: 22px; color: orange\"> 1 - 5</p>"
   ]
  },
  {
   "cell_type": "markdown",
   "id": "f4294ccc",
   "metadata": {},
   "source": [
    "> upper()\tConverts a string into uppercase\n",
    ">> lower()\tConverts a string into lowercase\n",
    ">>> isupper()\tChecks whether the character is uppercase or not\n",
    ">>>> islower()\tChecks whether the character is lowercase or not\n",
    ">>>>> len()\tIdentifies the length of the string."
   ]
  },
  {
   "cell_type": "markdown",
   "id": "c74e0516",
   "metadata": {},
   "source": [
    "<p style=\"font-family:Verdana; font-size: 22px; color: orange\"> 6 - 10</p>"
   ]
  },
  {
   "cell_type": "markdown",
   "id": "990456be",
   "metadata": {},
   "source": [
    "> startswith() \tReturns true if the element starts with the pattern\n",
    ">> split()\tSplits the string at a particular index or character\n",
    ">>> find()\tReturns the index at where the given string is found\n",
    ">>>> strip()\tStrips whitespaces from each string from both sides.\n",
    ">>>>> replace() \tReplaces a part of the string with another one."
   ]
  },
  {
   "cell_type": "markdown",
   "id": "9f206777",
   "metadata": {},
   "source": []
  }
 ],
 "metadata": {
  "kernelspec": {
   "display_name": "Python 3",
   "language": "python",
   "name": "python3"
  },
  "language_info": {
   "codemirror_mode": {
    "name": "ipython",
    "version": 3
   },
   "file_extension": ".py",
   "mimetype": "text/x-python",
   "name": "python",
   "nbconvert_exporter": "python",
   "pygments_lexer": "ipython3",
   "version": "3.12.7"
  }
 },
 "nbformat": 4,
 "nbformat_minor": 5
}
